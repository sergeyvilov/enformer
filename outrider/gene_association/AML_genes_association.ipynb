{
 "cells": [
  {
   "cell_type": "code",
   "execution_count": 264,
   "id": "40115abc",
   "metadata": {
    "tags": []
   },
   "outputs": [],
   "source": [
    "import numpy as np\n",
    "import pandas as pd\n",
    "import re\n",
    "import matplotlib.pyplot as plt\n",
    "import matplotlib as mpl\n",
    "import seaborn as sns"
   ]
  },
  {
   "cell_type": "code",
   "execution_count": 265,
   "id": "f9cf549c-5c58-4dfa-99ca-b553cdf9e63a",
   "metadata": {
    "tags": []
   },
   "outputs": [],
   "source": [
    "mpl.rcParams.update({'xtick.labelsize': 14, 'ytick.labelsize': 14, \n",
    "                     'axes.titlesize':14, 'axes.labelsize':16})"
   ]
  },
  {
   "cell_type": "code",
   "execution_count": 13,
   "id": "4c58f918-1899-4a7a-8a0a-33f5f1f85069",
   "metadata": {
    "tags": []
   },
   "outputs": [],
   "source": [
    "data_dir = '/s/project/mll/sergey/effect_prediction/outrider/'"
   ]
  },
  {
   "cell_type": "code",
   "execution_count": 124,
   "id": "e155ca46",
   "metadata": {
    "tags": []
   },
   "outputs": [],
   "source": [
    "outrider_AML = pd.read_csv('../aml_genes/OUTRIDER_results_AML_panel_Enformer_5k.tsv', sep='\\t')"
   ]
  },
  {
   "cell_type": "code",
   "execution_count": 125,
   "id": "2d8932c9",
   "metadata": {
    "tags": []
   },
   "outputs": [],
   "source": [
    "outrider_AML['AML_gene'] = outrider_AML.geneID.apply(lambda x:x.split('.')[0])"
   ]
  },
  {
   "cell_type": "code",
   "execution_count": 126,
   "id": "9328a691-afd1-4edf-8c45-67b95b2459d3",
   "metadata": {
    "tags": []
   },
   "outputs": [],
   "source": [
    "AML_genes = outrider_AML.hgncSymbol.unique()"
   ]
  },
  {
   "cell_type": "code",
   "execution_count": 59,
   "id": "0b1bfdf3",
   "metadata": {
    "tags": []
   },
   "outputs": [],
   "source": [
    "#outrider_AML = outrider_AML[outrider_AML.N_variants==0]"
   ]
  },
  {
   "cell_type": "code",
   "execution_count": 60,
   "id": "f9b5bbf2",
   "metadata": {
    "tags": []
   },
   "outputs": [],
   "source": [
    "samples_with_SV = ['MLL_28828', 'MLL_32452', 'MLL_19073', 'MLL_16703', 'MLL_13800',\n",
    "       'MLL_15031', 'MLL_75191', 'MLL_16686', 'MLL_29078', 'MLL_29079',\n",
    "       'MLL_58068', 'MLL_30875', 'MLL_30877']\n",
    "\n",
    "outrider_AML = outrider_AML[~outrider_AML.sampleID.isin(samples_with_SV)]"
   ]
  },
  {
   "cell_type": "code",
   "execution_count": 6,
   "id": "e6769541",
   "metadata": {},
   "outputs": [],
   "source": [
    "outrider_df = pd.read_csv(data_dir + 'outrider_results/outrider_all.csv.gz')\n",
    "\n",
    "outrider_df = outrider_df[outrider_df.padjust<0.05]"
   ]
  },
  {
   "cell_type": "code",
   "execution_count": 8,
   "id": "14c2cef1",
   "metadata": {},
   "outputs": [],
   "source": [
    "names_matching = pd.read_csv('/s/project/mll/sergey/effect_prediction/MLM/UTR_coords/GRCh38_EnsembleCanonical_HGNC.tsv.gz',sep='\\t',\n",
    "                         skiprows=1,header=None,names=['geneName','hgncSymbol'],\n",
    "                             usecols=[0,3]).drop_duplicates().set_index('geneName').squeeze().to_dict()"
   ]
  },
  {
   "cell_type": "code",
   "execution_count": 297,
   "id": "64f9be0b",
   "metadata": {},
   "outputs": [],
   "source": [
    "proximity = []\n",
    "\n",
    "for sampleID in outrider_AML.sampleID.unique():\n",
    "    genes = outrider_AML.loc[outrider_AML.sampleID==sampleID, ['AML_gene','l2fc']].values\n",
    "    for gene,l2fc in genes:\n",
    "        prox = outrider_df.loc[outrider_df.sampleID==sampleID,['geneName','l2fc']].rename(columns={'geneName':'ass_gene', 'l2fc':'ass_gene_l2fc'})\n",
    "        #prox = prox[~prox.ass_gene.isin(genes)]\n",
    "        prox['AML_gene'] = gene\n",
    "        prox['AML_gene_l2fc'] = l2fc\n",
    "        prox['sampleID'] = sampleID\n",
    "        proximity.append(prox)\n",
    "        \n",
    "proximity = pd.concat(proximity)\n",
    "\n",
    "proximity = proximity[proximity.AML_gene!=proximity.ass_gene]\n",
    "\n",
    "proximity = proximity.merge(outrider_AML[['sampleID','AML_gene']]\n",
    "                )"
   ]
  },
  {
   "cell_type": "code",
   "execution_count": 180,
   "id": "3766bb50",
   "metadata": {},
   "outputs": [],
   "source": [
    "#save gene list to extract variants for AML and associated genes\n",
    "\n",
    "df1 = proximity[['sampleID','AML_gene']].rename(columns={'AML_gene':'gene'})\n",
    "df2 = proximity[['sampleID','ass_gene']].rename(columns={'ass_gene':'gene'})\n",
    "\n",
    "df = pd.concat([df1,df2]).drop_duplicates().merge(outrider_AML[['sampleID','VCF_file']].drop_duplicates(),how='left')\n",
    "df['hgncSymbol'] = df['gene'].map(names_matching)\n",
    "\n",
    "#df.to_csv('AML_associated.tsv',index=None,sep='\\t')"
   ]
  },
  {
   "cell_type": "code",
   "execution_count": 298,
   "id": "8db6e182-dd7f-41e7-b8e4-9d9d4c517656",
   "metadata": {
    "tags": []
   },
   "outputs": [],
   "source": [
    "#add extracted variant counts of associated genes\n",
    "\n",
    "promoter_variants = pd.read_csv(data_dir + 'aml_association/promoter_variants/max_gnomAD_5e-4/promoters_5000_symm.tsv',\n",
    "                               sep='\\t', usecols=[5,6], names=['sampleID','geneName'])\n",
    "\n",
    "promoter_variants['gene_vars'] = 1\n",
    "\n",
    "promoter_variants = promoter_variants.groupby(['sampleID','geneName']).gene_vars.sum().reset_index()"
   ]
  },
  {
   "cell_type": "code",
   "execution_count": 299,
   "id": "4637fa4b-81b6-495a-b6dc-0608354c4d1f",
   "metadata": {
    "tags": []
   },
   "outputs": [],
   "source": [
    "proximity = proximity.merge(promoter_variants.rename(columns={'geneName':'AML_gene','gene_vars':'AML_gene_vars'}),how='left')\n",
    "proximity = proximity.merge(promoter_variants.rename(columns={'geneName':'ass_gene','gene_vars':'ass_gene_vars'}),how='left')\n",
    "proximity = proximity.fillna(0)"
   ]
  },
  {
   "cell_type": "code",
   "execution_count": 300,
   "id": "5e5930d7-ee15-4d69-a0cd-abff4cb54671",
   "metadata": {
    "tags": []
   },
   "outputs": [],
   "source": [
    "proximity = proximity[(proximity.ass_gene_vars!=0)&(proximity.AML_gene_vars==0)] #AML genes with no variants, other genes with variants"
   ]
  },
  {
   "cell_type": "code",
   "execution_count": 301,
   "id": "fb9cc38c-9aca-4735-8043-6d1dbc782d56",
   "metadata": {
    "tags": []
   },
   "outputs": [],
   "source": [
    "N_ass_genes = proximity.groupby(['AML_gene','sampleID']).ass_gene.count().rename('n_ass_genes').sort_values().reset_index()"
   ]
  },
  {
   "cell_type": "code",
   "execution_count": 302,
   "id": "061af279-4326-454d-9a5a-7c5e12d75da2",
   "metadata": {
    "tags": []
   },
   "outputs": [],
   "source": [
    "proximity = proximity.merge(N_ass_genes,how='left')"
   ]
  },
  {
   "cell_type": "code",
   "execution_count": 198,
   "id": "f397e092-b68c-4454-bdc9-ae0aa07607b3",
   "metadata": {
    "tags": []
   },
   "outputs": [],
   "source": [
    "#proximity = proximity.applymap(lambda x: names_matching.get(x,x))"
   ]
  },
  {
   "cell_type": "code",
   "execution_count": 217,
   "id": "f7036fb7-ea86-44eb-a740-f8f968c55a3e",
   "metadata": {
    "tags": []
   },
   "outputs": [],
   "source": [
    "def highlight_AML_genes(s):\n",
    "    colors = ['red' if x in AML_genes else 'black' for x in s]\n",
    "    return ['color: %s' % color for color in colors]\n",
    "#df.style.apply(highlight_AML_genes)"
   ]
  },
  {
   "cell_type": "code",
   "execution_count": 241,
   "id": "c5caf732-3bfd-46f5-9816-547d6dd207dc",
   "metadata": {
    "tags": []
   },
   "outputs": [
    {
     "name": "stdout",
     "output_type": "stream",
     "text": [
      "-3.77 1.62\n"
     ]
    }
   ],
   "source": [
    "pct_95 = np.percentile(outrider_df.l2fc,95)\n",
    "\n",
    "pct_5 = np.percentile(outrider_df.l2fc,5)\n",
    "\n",
    "print(pct_5, pct_95)"
   ]
  },
  {
   "cell_type": "code",
   "execution_count": 284,
   "id": "c574dae1-c20d-4ae5-a786-431f613c7790",
   "metadata": {
    "tags": []
   },
   "outputs": [
    {
     "data": {
      "text/plain": [
       "Text(0, 0.5, 'sample-gene pairs')"
      ]
     },
     "execution_count": 284,
     "metadata": {},
     "output_type": "execute_result"
    },
    {
     "data": {
      "image/png": "[encoded data removed]",
      "text/plain": [
       "<Figure size 432x288 with 1 Axes>"
      ]
     },
     "metadata": {
      "needs_background": "light"
     },
     "output_type": "display_data"
    }
   ],
   "source": [
    "fig, ax = plt.subplots()\n",
    "\n",
    "outrider_df.l2fc[outrider_df.l2fc>0].hist(bins=np.arange(0.22,4,0.3), alpha=0.6, color='tab:blue')\n",
    "outrider_df.l2fc[outrider_df.l2fc<0].hist(bins=np.arange(-9,-0.22,0.3), alpha=0.6, color='tab:blue')\n",
    "\n",
    "ax.set_axisbelow(True)\n",
    "ax.set_xlim([-9,4])\n",
    "\n",
    "ax.set_xlabel('OUTRIDER l2fc')\n",
    "ax.set_ylabel('sample-gene pairs')"
   ]
  },
  {
   "cell_type": "code",
   "execution_count": 335,
   "id": "f4edc418-9405-40ec-b3a9-592301f08d47",
   "metadata": {
    "tags": []
   },
   "outputs": [],
   "source": [
    "df = proximity.applymap(lambda x: names_matching.get(x,x)).sort_values(by='ass_gene_l2fc',ascending=False)\n",
    "\n",
    "pd.options.display.min_rows = 16\n",
    "\n",
    "df[['sampleID','AML_gene','ass_gene', 'ass_gene_l2fc', 'AML_gene_l2fc']]\n",
    "\n",
    "sc_df = df.groupby(['sampleID','AML_gene']).ass_gene_l2fc.apply(lambda x:(x>0).sum()==len(x) or (x<0).sum()==len(x)).rename('sing_consensus').reset_index()\n",
    "sc_df = sc_df[sc_df.sing_consensus]"
   ]
  },
  {
   "cell_type": "code",
   "execution_count": 341,
   "id": "089cd40e-d2de-42c8-a7fb-325f87834b1a",
   "metadata": {
    "tags": []
   },
   "outputs": [],
   "source": [
    "df_consensus = sc_df.merge(df)"
   ]
  },
  {
   "cell_type": "code",
   "execution_count": 342,
   "id": "c0261a77-1e6b-4497-b3e0-d03be08be119",
   "metadata": {
    "tags": []
   },
   "outputs": [],
   "source": [
    "df_consensus = df_consensus.sort_values(by='ass_gene_l2fc', key=lambda x:abs(x), ascending=False).drop_duplicates(subset=['sampleID','AML_gene'], keep='first')"
   ]
  },
  {
   "cell_type": "code",
   "execution_count": 343,
   "id": "b5656aa1-539b-4e8d-923e-bc2fe929d882",
   "metadata": {
    "tags": []
   },
   "outputs": [
    {
     "data": {
      "text/plain": [
       "<matplotlib.collections.PathCollection at 0x14e7e7aaa520>"
      ]
     },
     "execution_count": 343,
     "metadata": {},
     "output_type": "execute_result"
    },
    {
     "data": {
      "image/png": "[encoded data removed]",
      "text/plain": [
       "<Figure size 432x288 with 1 Axes>"
      ]
     },
     "metadata": {
      "needs_background": "light"
     },
     "output_type": "display_data"
    }
   ],
   "source": [
    "fig,ax = plt.subplots()\n",
    "\n",
    "ax.scatter(df_consensus.ass_gene_l2fc.abs(),df_consensus.AML_gene_l2fc.abs())"
   ]
  },
  {
   "cell_type": "code",
   "execution_count": 344,
   "id": "ad11f5f1-652f-4dd6-a816-cfb86f5dcb21",
   "metadata": {
    "tags": []
   },
   "outputs": [
    {
     "data": {
      "text/html": [
       "<div>\n",
       "<style scoped>\n",
       "    .dataframe tbody tr th:only-of-type {\n",
       "        vertical-align: middle;\n",
       "    }\n",
       "\n",
       "    .dataframe tbody tr th {\n",
       "        vertical-align: top;\n",
       "    }\n",
       "\n",
       "    .dataframe thead th {\n",
       "        text-align: right;\n",
       "    }\n",
       "</style>\n",
       "<table border=\"1\" class=\"dataframe\">\n",
       "  <thead>\n",
       "    <tr style=\"text-align: right;\">\n",
       "      <th></th>\n",
       "      <th>sampleID</th>\n",
       "      <th>AML_gene</th>\n",
       "      <th>sing_consensus</th>\n",
       "      <th>ass_gene</th>\n",
       "      <th>ass_gene_l2fc</th>\n",
       "      <th>AML_gene_l2fc</th>\n",
       "      <th>AML_gene_vars</th>\n",
       "      <th>ass_gene_vars</th>\n",
       "      <th>n_ass_genes</th>\n",
       "    </tr>\n",
       "  </thead>\n",
       "  <tbody>\n",
       "    <tr>\n",
       "      <th>32</th>\n",
       "      <td>MLL_16593</td>\n",
       "      <td>CEBPA</td>\n",
       "      <td>True</td>\n",
       "      <td>CPPED1</td>\n",
       "      <td>-4.74</td>\n",
       "      <td>-1.78</td>\n",
       "      <td>0.0</td>\n",
       "      <td>1.0</td>\n",
       "      <td>9</td>\n",
       "    </tr>\n",
       "    <tr>\n",
       "      <th>41</th>\n",
       "      <td>MLL_16593</td>\n",
       "      <td>SF3B1</td>\n",
       "      <td>True</td>\n",
       "      <td>CPPED1</td>\n",
       "      <td>-4.74</td>\n",
       "      <td>-0.32</td>\n",
       "      <td>0.0</td>\n",
       "      <td>1.0</td>\n",
       "      <td>9</td>\n",
       "    </tr>\n",
       "    <tr>\n",
       "      <th>11</th>\n",
       "      <td>MLL_14748</td>\n",
       "      <td>TBL1XR1</td>\n",
       "      <td>True</td>\n",
       "      <td>ZNF718</td>\n",
       "      <td>-4.58</td>\n",
       "      <td>0.69</td>\n",
       "      <td>0.0</td>\n",
       "      <td>2.0</td>\n",
       "      <td>7</td>\n",
       "    </tr>\n",
       "    <tr>\n",
       "      <th>2</th>\n",
       "      <td>MLL_10655</td>\n",
       "      <td>SF3A1</td>\n",
       "      <td>True</td>\n",
       "      <td>LRP12</td>\n",
       "      <td>-3.81</td>\n",
       "      <td>-0.42</td>\n",
       "      <td>0.0</td>\n",
       "      <td>1.0</td>\n",
       "      <td>3</td>\n",
       "    </tr>\n",
       "    <tr>\n",
       "      <th>80</th>\n",
       "      <td>MLL_29371</td>\n",
       "      <td>CSNK1A1</td>\n",
       "      <td>True</td>\n",
       "      <td>SECTM1</td>\n",
       "      <td>-3.67</td>\n",
       "      <td>0.44</td>\n",
       "      <td>0.0</td>\n",
       "      <td>1.0</td>\n",
       "      <td>4</td>\n",
       "    </tr>\n",
       "    <tr>\n",
       "      <th>76</th>\n",
       "      <td>MLL_29371</td>\n",
       "      <td>BCOR</td>\n",
       "      <td>True</td>\n",
       "      <td>SECTM1</td>\n",
       "      <td>-3.67</td>\n",
       "      <td>-4.77</td>\n",
       "      <td>0.0</td>\n",
       "      <td>1.0</td>\n",
       "      <td>4</td>\n",
       "    </tr>\n",
       "    <tr>\n",
       "      <th>23</th>\n",
       "      <td>MLL_16241</td>\n",
       "      <td>BRCC3</td>\n",
       "      <td>True</td>\n",
       "      <td>F13A1</td>\n",
       "      <td>-3.31</td>\n",
       "      <td>-1.25</td>\n",
       "      <td>0.0</td>\n",
       "      <td>1.0</td>\n",
       "      <td>5</td>\n",
       "    </tr>\n",
       "    <tr>\n",
       "      <th>18</th>\n",
       "      <td>MLL_16241</td>\n",
       "      <td>BCOR</td>\n",
       "      <td>True</td>\n",
       "      <td>F13A1</td>\n",
       "      <td>-3.31</td>\n",
       "      <td>1.03</td>\n",
       "      <td>0.0</td>\n",
       "      <td>1.0</td>\n",
       "      <td>5</td>\n",
       "    </tr>\n",
       "    <tr>\n",
       "      <th>13</th>\n",
       "      <td>MLL_15976</td>\n",
       "      <td>BCORL1</td>\n",
       "      <td>True</td>\n",
       "      <td>ASRGL1</td>\n",
       "      <td>-3.00</td>\n",
       "      <td>-2.96</td>\n",
       "      <td>0.0</td>\n",
       "      <td>1.0</td>\n",
       "      <td>2</td>\n",
       "    </tr>\n",
       "    <tr>\n",
       "      <th>85</th>\n",
       "      <td>MLL_29692</td>\n",
       "      <td>CHEK2</td>\n",
       "      <td>True</td>\n",
       "      <td>C21orf91</td>\n",
       "      <td>-2.72</td>\n",
       "      <td>0.71</td>\n",
       "      <td>0.0</td>\n",
       "      <td>1.0</td>\n",
       "      <td>1</td>\n",
       "    </tr>\n",
       "    <tr>\n",
       "      <th>97</th>\n",
       "      <td>MLL_44131</td>\n",
       "      <td>BRCC3</td>\n",
       "      <td>True</td>\n",
       "      <td>LTBP4</td>\n",
       "      <td>-2.71</td>\n",
       "      <td>-0.93</td>\n",
       "      <td>0.0</td>\n",
       "      <td>1.0</td>\n",
       "      <td>3</td>\n",
       "    </tr>\n",
       "    <tr>\n",
       "      <th>100</th>\n",
       "      <td>MLL_44131</td>\n",
       "      <td>CCND1</td>\n",
       "      <td>True</td>\n",
       "      <td>LTBP4</td>\n",
       "      <td>-2.71</td>\n",
       "      <td>-5.73</td>\n",
       "      <td>0.0</td>\n",
       "      <td>1.0</td>\n",
       "      <td>3</td>\n",
       "    </tr>\n",
       "    <tr>\n",
       "      <th>42</th>\n",
       "      <td>MLL_16596</td>\n",
       "      <td>TP53</td>\n",
       "      <td>True</td>\n",
       "      <td>FAM131A</td>\n",
       "      <td>-2.55</td>\n",
       "      <td>-1.77</td>\n",
       "      <td>0.0</td>\n",
       "      <td>1.0</td>\n",
       "      <td>1</td>\n",
       "    </tr>\n",
       "    <tr>\n",
       "      <th>67</th>\n",
       "      <td>MLL_29075</td>\n",
       "      <td>CSF3R</td>\n",
       "      <td>True</td>\n",
       "      <td>PPBP</td>\n",
       "      <td>-1.90</td>\n",
       "      <td>-1.01</td>\n",
       "      <td>0.0</td>\n",
       "      <td>1.0</td>\n",
       "      <td>2</td>\n",
       "    </tr>\n",
       "    <tr>\n",
       "      <th>45</th>\n",
       "      <td>MLL_16777</td>\n",
       "      <td>BRCC3</td>\n",
       "      <td>True</td>\n",
       "      <td>MICB</td>\n",
       "      <td>-1.68</td>\n",
       "      <td>-1.55</td>\n",
       "      <td>0.0</td>\n",
       "      <td>1.0</td>\n",
       "      <td>2</td>\n",
       "    </tr>\n",
       "    <tr>\n",
       "      <th>84</th>\n",
       "      <td>MLL_29531</td>\n",
       "      <td>STAG2</td>\n",
       "      <td>True</td>\n",
       "      <td>H1-3</td>\n",
       "      <td>-1.62</td>\n",
       "      <td>0.57</td>\n",
       "      <td>0.0</td>\n",
       "      <td>1.0</td>\n",
       "      <td>1</td>\n",
       "    </tr>\n",
       "    <tr>\n",
       "      <th>72</th>\n",
       "      <td>MLL_29365</td>\n",
       "      <td>RAD21</td>\n",
       "      <td>True</td>\n",
       "      <td>ARL10</td>\n",
       "      <td>1.57</td>\n",
       "      <td>0.67</td>\n",
       "      <td>0.0</td>\n",
       "      <td>1.0</td>\n",
       "      <td>1</td>\n",
       "    </tr>\n",
       "    <tr>\n",
       "      <th>88</th>\n",
       "      <td>MLL_30839</td>\n",
       "      <td>IL2RG</td>\n",
       "      <td>True</td>\n",
       "      <td>ZNF721</td>\n",
       "      <td>-1.51</td>\n",
       "      <td>-1.09</td>\n",
       "      <td>0.0</td>\n",
       "      <td>2.0</td>\n",
       "      <td>3</td>\n",
       "    </tr>\n",
       "    <tr>\n",
       "      <th>91</th>\n",
       "      <td>MLL_30839</td>\n",
       "      <td>STAG2</td>\n",
       "      <td>True</td>\n",
       "      <td>ZNF721</td>\n",
       "      <td>-1.51</td>\n",
       "      <td>-0.52</td>\n",
       "      <td>0.0</td>\n",
       "      <td>2.0</td>\n",
       "      <td>3</td>\n",
       "    </tr>\n",
       "    <tr>\n",
       "      <th>81</th>\n",
       "      <td>MLL_29529</td>\n",
       "      <td>KDM5A</td>\n",
       "      <td>True</td>\n",
       "      <td>SLC26A2</td>\n",
       "      <td>1.47</td>\n",
       "      <td>0.41</td>\n",
       "      <td>0.0</td>\n",
       "      <td>1.0</td>\n",
       "      <td>3</td>\n",
       "    </tr>\n",
       "    <tr>\n",
       "      <th>3</th>\n",
       "      <td>MLL_11906</td>\n",
       "      <td>NPM1</td>\n",
       "      <td>True</td>\n",
       "      <td>SEMA4A</td>\n",
       "      <td>1.19</td>\n",
       "      <td>-0.50</td>\n",
       "      <td>0.0</td>\n",
       "      <td>1.0</td>\n",
       "      <td>1</td>\n",
       "    </tr>\n",
       "    <tr>\n",
       "      <th>94</th>\n",
       "      <td>MLL_30886</td>\n",
       "      <td>BRAF</td>\n",
       "      <td>True</td>\n",
       "      <td>AP3S1</td>\n",
       "      <td>-1.06</td>\n",
       "      <td>-0.44</td>\n",
       "      <td>0.0</td>\n",
       "      <td>1.0</td>\n",
       "      <td>2</td>\n",
       "    </tr>\n",
       "    <tr>\n",
       "      <th>48</th>\n",
       "      <td>MLL_17836</td>\n",
       "      <td>IKBKB</td>\n",
       "      <td>True</td>\n",
       "      <td>STX3</td>\n",
       "      <td>-1.05</td>\n",
       "      <td>0.51</td>\n",
       "      <td>0.0</td>\n",
       "      <td>1.0</td>\n",
       "      <td>1</td>\n",
       "    </tr>\n",
       "    <tr>\n",
       "      <th>68</th>\n",
       "      <td>MLL_29337</td>\n",
       "      <td>BRCC3</td>\n",
       "      <td>True</td>\n",
       "      <td>SLC26A2</td>\n",
       "      <td>1.02</td>\n",
       "      <td>-1.09</td>\n",
       "      <td>0.0</td>\n",
       "      <td>1.0</td>\n",
       "      <td>1</td>\n",
       "    </tr>\n",
       "    <tr>\n",
       "      <th>59</th>\n",
       "      <td>MLL_29058</td>\n",
       "      <td>STAG2</td>\n",
       "      <td>True</td>\n",
       "      <td>AHSP</td>\n",
       "      <td>-0.94</td>\n",
       "      <td>0.45</td>\n",
       "      <td>0.0</td>\n",
       "      <td>1.0</td>\n",
       "      <td>3</td>\n",
       "    </tr>\n",
       "    <tr>\n",
       "      <th>104</th>\n",
       "      <td>MLL_74402</td>\n",
       "      <td>DDX41</td>\n",
       "      <td>True</td>\n",
       "      <td>PPIF</td>\n",
       "      <td>0.92</td>\n",
       "      <td>0.48</td>\n",
       "      <td>0.0</td>\n",
       "      <td>1.0</td>\n",
       "      <td>1</td>\n",
       "    </tr>\n",
       "    <tr>\n",
       "      <th>52</th>\n",
       "      <td>MLL_28605</td>\n",
       "      <td>TP53</td>\n",
       "      <td>True</td>\n",
       "      <td>C1GALT1</td>\n",
       "      <td>-0.86</td>\n",
       "      <td>-2.08</td>\n",
       "      <td>0.0</td>\n",
       "      <td>1.0</td>\n",
       "      <td>2</td>\n",
       "    </tr>\n",
       "    <tr>\n",
       "      <th>50</th>\n",
       "      <td>MLL_28605</td>\n",
       "      <td>APC</td>\n",
       "      <td>True</td>\n",
       "      <td>C1GALT1</td>\n",
       "      <td>-0.86</td>\n",
       "      <td>0.48</td>\n",
       "      <td>0.0</td>\n",
       "      <td>1.0</td>\n",
       "      <td>2</td>\n",
       "    </tr>\n",
       "    <tr>\n",
       "      <th>92</th>\n",
       "      <td>MLL_30843</td>\n",
       "      <td>STAG2</td>\n",
       "      <td>True</td>\n",
       "      <td>SPATA33</td>\n",
       "      <td>0.83</td>\n",
       "      <td>-0.55</td>\n",
       "      <td>0.0</td>\n",
       "      <td>1.0</td>\n",
       "      <td>1</td>\n",
       "    </tr>\n",
       "    <tr>\n",
       "      <th>101</th>\n",
       "      <td>MLL_44612</td>\n",
       "      <td>NRAS</td>\n",
       "      <td>True</td>\n",
       "      <td>RALGAPA2</td>\n",
       "      <td>0.77</td>\n",
       "      <td>-0.56</td>\n",
       "      <td>0.0</td>\n",
       "      <td>1.0</td>\n",
       "      <td>3</td>\n",
       "    </tr>\n",
       "    <tr>\n",
       "      <th>46</th>\n",
       "      <td>MLL_17557</td>\n",
       "      <td>BCORL1</td>\n",
       "      <td>True</td>\n",
       "      <td>RGS19</td>\n",
       "      <td>-0.75</td>\n",
       "      <td>-3.29</td>\n",
       "      <td>0.0</td>\n",
       "      <td>1.0</td>\n",
       "      <td>1</td>\n",
       "    </tr>\n",
       "    <tr>\n",
       "      <th>60</th>\n",
       "      <td>MLL_29068</td>\n",
       "      <td>BRCC3</td>\n",
       "      <td>True</td>\n",
       "      <td>POLE2</td>\n",
       "      <td>0.63</td>\n",
       "      <td>0.65</td>\n",
       "      <td>0.0</td>\n",
       "      <td>1.0</td>\n",
       "      <td>2</td>\n",
       "    </tr>\n",
       "    <tr>\n",
       "      <th>62</th>\n",
       "      <td>MLL_29068</td>\n",
       "      <td>IL2RG</td>\n",
       "      <td>True</td>\n",
       "      <td>POLE2</td>\n",
       "      <td>0.63</td>\n",
       "      <td>-0.87</td>\n",
       "      <td>0.0</td>\n",
       "      <td>1.0</td>\n",
       "      <td>2</td>\n",
       "    </tr>\n",
       "    <tr>\n",
       "      <th>64</th>\n",
       "      <td>MLL_29068</td>\n",
       "      <td>SMC3</td>\n",
       "      <td>True</td>\n",
       "      <td>POLE2</td>\n",
       "      <td>0.63</td>\n",
       "      <td>0.47</td>\n",
       "      <td>0.0</td>\n",
       "      <td>1.0</td>\n",
       "      <td>2</td>\n",
       "    </tr>\n",
       "    <tr>\n",
       "      <th>71</th>\n",
       "      <td>MLL_29354</td>\n",
       "      <td>SH2B3</td>\n",
       "      <td>True</td>\n",
       "      <td>ANKRD13A</td>\n",
       "      <td>-0.63</td>\n",
       "      <td>-0.90</td>\n",
       "      <td>0.0</td>\n",
       "      <td>1.0</td>\n",
       "      <td>3</td>\n",
       "    </tr>\n",
       "    <tr>\n",
       "      <th>56</th>\n",
       "      <td>MLL_29049</td>\n",
       "      <td>PRPF8</td>\n",
       "      <td>True</td>\n",
       "      <td>UBFD1</td>\n",
       "      <td>-0.60</td>\n",
       "      <td>0.39</td>\n",
       "      <td>0.0</td>\n",
       "      <td>1.0</td>\n",
       "      <td>2</td>\n",
       "    </tr>\n",
       "    <tr>\n",
       "      <th>54</th>\n",
       "      <td>MLL_29049</td>\n",
       "      <td>NFKBIE</td>\n",
       "      <td>True</td>\n",
       "      <td>UBFD1</td>\n",
       "      <td>-0.60</td>\n",
       "      <td>-1.02</td>\n",
       "      <td>0.0</td>\n",
       "      <td>1.0</td>\n",
       "      <td>2</td>\n",
       "    </tr>\n",
       "    <tr>\n",
       "      <th>43</th>\n",
       "      <td>MLL_16688</td>\n",
       "      <td>FOXO1</td>\n",
       "      <td>True</td>\n",
       "      <td>SMARCA2</td>\n",
       "      <td>0.59</td>\n",
       "      <td>0.87</td>\n",
       "      <td>0.0</td>\n",
       "      <td>1.0</td>\n",
       "      <td>1</td>\n",
       "    </tr>\n",
       "    <tr>\n",
       "      <th>4</th>\n",
       "      <td>MLL_14666</td>\n",
       "      <td>IL2RG</td>\n",
       "      <td>True</td>\n",
       "      <td>EIF2S3</td>\n",
       "      <td>0.53</td>\n",
       "      <td>-1.50</td>\n",
       "      <td>0.0</td>\n",
       "      <td>2.0</td>\n",
       "      <td>1</td>\n",
       "    </tr>\n",
       "    <tr>\n",
       "      <th>47</th>\n",
       "      <td>MLL_17828</td>\n",
       "      <td>SMC1A</td>\n",
       "      <td>True</td>\n",
       "      <td>WWP2</td>\n",
       "      <td>0.39</td>\n",
       "      <td>-0.52</td>\n",
       "      <td>0.0</td>\n",
       "      <td>1.0</td>\n",
       "      <td>1</td>\n",
       "    </tr>\n",
       "  </tbody>\n",
       "</table>\n",
       "</div>"
      ],
      "text/plain": [
       "      sampleID AML_gene  sing_consensus  ass_gene  ass_gene_l2fc  \\\n",
       "32   MLL_16593    CEBPA            True    CPPED1          -4.74   \n",
       "41   MLL_16593    SF3B1            True    CPPED1          -4.74   \n",
       "11   MLL_14748  TBL1XR1            True    ZNF718          -4.58   \n",
       "2    MLL_10655    SF3A1            True     LRP12          -3.81   \n",
       "80   MLL_29371  CSNK1A1            True    SECTM1          -3.67   \n",
       "76   MLL_29371     BCOR            True    SECTM1          -3.67   \n",
       "23   MLL_16241    BRCC3            True     F13A1          -3.31   \n",
       "18   MLL_16241     BCOR            True     F13A1          -3.31   \n",
       "13   MLL_15976   BCORL1            True    ASRGL1          -3.00   \n",
       "85   MLL_29692    CHEK2            True  C21orf91          -2.72   \n",
       "97   MLL_44131    BRCC3            True     LTBP4          -2.71   \n",
       "100  MLL_44131    CCND1            True     LTBP4          -2.71   \n",
       "42   MLL_16596     TP53            True   FAM131A          -2.55   \n",
       "67   MLL_29075    CSF3R            True      PPBP          -1.90   \n",
       "45   MLL_16777    BRCC3            True      MICB          -1.68   \n",
       "84   MLL_29531    STAG2            True      H1-3          -1.62   \n",
       "72   MLL_29365    RAD21            True     ARL10           1.57   \n",
       "88   MLL_30839    IL2RG            True    ZNF721          -1.51   \n",
       "91   MLL_30839    STAG2            True    ZNF721          -1.51   \n",
       "81   MLL_29529    KDM5A            True   SLC26A2           1.47   \n",
       "3    MLL_11906     NPM1            True    SEMA4A           1.19   \n",
       "94   MLL_30886     BRAF            True     AP3S1          -1.06   \n",
       "48   MLL_17836    IKBKB            True      STX3          -1.05   \n",
       "68   MLL_29337    BRCC3            True   SLC26A2           1.02   \n",
       "59   MLL_29058    STAG2            True      AHSP          -0.94   \n",
       "104  MLL_74402    DDX41            True      PPIF           0.92   \n",
       "52   MLL_28605     TP53            True   C1GALT1          -0.86   \n",
       "50   MLL_28605      APC            True   C1GALT1          -0.86   \n",
       "92   MLL_30843    STAG2            True   SPATA33           0.83   \n",
       "101  MLL_44612     NRAS            True  RALGAPA2           0.77   \n",
       "46   MLL_17557   BCORL1            True     RGS19          -0.75   \n",
       "60   MLL_29068    BRCC3            True     POLE2           0.63   \n",
       "62   MLL_29068    IL2RG            True     POLE2           0.63   \n",
       "64   MLL_29068     SMC3            True     POLE2           0.63   \n",
       "71   MLL_29354    SH2B3            True  ANKRD13A          -0.63   \n",
       "56   MLL_29049    PRPF8            True     UBFD1          -0.60   \n",
       "54   MLL_29049   NFKBIE            True     UBFD1          -0.60   \n",
       "43   MLL_16688    FOXO1            True   SMARCA2           0.59   \n",
       "4    MLL_14666    IL2RG            True    EIF2S3           0.53   \n",
       "47   MLL_17828    SMC1A            True      WWP2           0.39   \n",
       "\n",
       "     AML_gene_l2fc  AML_gene_vars  ass_gene_vars  n_ass_genes  \n",
       "32           -1.78            0.0            1.0            9  \n",
       "41           -0.32            0.0            1.0            9  \n",
       "11            0.69            0.0            2.0            7  \n",
       "2            -0.42            0.0            1.0            3  \n",
       "80            0.44            0.0            1.0            4  \n",
       "76           -4.77            0.0            1.0            4  \n",
       "23           -1.25            0.0            1.0            5  \n",
       "18            1.03            0.0            1.0            5  \n",
       "13           -2.96            0.0            1.0            2  \n",
       "85            0.71            0.0            1.0            1  \n",
       "97           -0.93            0.0            1.0            3  \n",
       "100          -5.73            0.0            1.0            3  \n",
       "42           -1.77            0.0            1.0            1  \n",
       "67           -1.01            0.0            1.0            2  \n",
       "45           -1.55            0.0            1.0            2  \n",
       "84            0.57            0.0            1.0            1  \n",
       "72            0.67            0.0            1.0            1  \n",
       "88           -1.09            0.0            2.0            3  \n",
       "91           -0.52            0.0            2.0            3  \n",
       "81            0.41            0.0            1.0            3  \n",
       "3            -0.50            0.0            1.0            1  \n",
       "94           -0.44            0.0            1.0            2  \n",
       "48            0.51            0.0            1.0            1  \n",
       "68           -1.09            0.0            1.0            1  \n",
       "59            0.45            0.0            1.0            3  \n",
       "104           0.48            0.0            1.0            1  \n",
       "52           -2.08            0.0            1.0            2  \n",
       "50            0.48            0.0            1.0            2  \n",
       "92           -0.55            0.0            1.0            1  \n",
       "101          -0.56            0.0            1.0            3  \n",
       "46           -3.29            0.0            1.0            1  \n",
       "60            0.65            0.0            1.0            2  \n",
       "62           -0.87            0.0            1.0            2  \n",
       "64            0.47            0.0            1.0            2  \n",
       "71           -0.90            0.0            1.0            3  \n",
       "56            0.39            0.0            1.0            2  \n",
       "54           -1.02            0.0            1.0            2  \n",
       "43            0.87            0.0            1.0            1  \n",
       "4            -1.50            0.0            2.0            1  \n",
       "47           -0.52            0.0            1.0            1  "
      ]
     },
     "execution_count": 344,
     "metadata": {},
     "output_type": "execute_result"
    }
   ],
   "source": [
    "df_consensus"
   ]
  },
  {
   "cell_type": "code",
   "execution_count": 245,
   "id": "a58f1b41-7bf6-4ac5-97e3-7f9b593a9e96",
   "metadata": {
    "tags": []
   },
   "outputs": [
    {
     "data": {
      "text/plain": [
       "(70, 2)"
      ]
     },
     "execution_count": 245,
     "metadata": {},
     "output_type": "execute_result"
    }
   ],
   "source": [
    "df[['sampleID','AML_gene']].drop_duplicates().shape"
   ]
  },
  {
   "cell_type": "code",
   "execution_count": 166,
   "id": "2bfc9419-ae9a-4e82-9914-6f808965496e",
   "metadata": {
    "tags": []
   },
   "outputs": [],
   "source": [
    "#proximity.ass_gene.drop_duplicates().to_csv(data_dir + 'aml_association/ass_250.csv',index=None)"
   ]
  },
  {
   "cell_type": "code",
   "execution_count": 176,
   "id": "68cd990a-b4cb-4ab7-a706-34fa9cacd4ff",
   "metadata": {
    "tags": []
   },
   "outputs": [],
   "source": [
    "#select promoter variants only for associated genes\n",
    "\n",
    "promoter_variants = pd.read_csv(data_dir + 'aml_association/promoter_variants/max_gnomAD_5e-4/promoters_5000_symm.tsv',\n",
    "                               sep='\\t', names=['chrom','pos', 'ref', 'alt', 'info_', 'vcf_name', 'geneID'])\n",
    "\n",
    "gene_edges = pd.read_csv(data_dir + 'aml_association/associated_genes_GRCh37.bed',\n",
    "                               sep='\\t', names=['chrom','rstart', 'rstop', 'geneID'], usecols=[0,1,2,3])\n",
    "\n",
    "promoter_variants = promoter_variants[promoter_variants.geneID.isin(proximity.ass_gene)]\n",
    "\n",
    "promoter_variants = promoter_variants.merge(gene_edges, how='left')\n",
    "\n",
    "#promoter_variants.to_csv(data_dir + 'aml_association/promoter_variants/max_gnomAD_5e-4/promoters_5000_symm_short.tsv',\n",
    "#                         sep='\\t', header=None, index=None)"
   ]
  },
  {
   "cell_type": "code",
   "execution_count": 175,
   "id": "84465392-9d09-4a60-9cbb-2ca1a55bfe55",
   "metadata": {
    "tags": []
   },
   "outputs": [
    {
     "data": {
      "text/plain": [
       "'/s/project/mll/sergey/effect_prediction/outrider/aml_association/promoter_variants/max_gnomAD_5e-4/promoters_5000_symm_short.tsv'"
      ]
     },
     "execution_count": 175,
     "metadata": {},
     "output_type": "execute_result"
    }
   ],
   "source": [
    "data_dir + 'aml_association/promoter_variants/max_gnomAD_5e-4/promoters_5000_symm_short.tsv'"
   ]
  },
  {
   "cell_type": "code",
   "execution_count": 77,
   "id": "b07bc5fa-060a-47d3-b0b4-784859278825",
   "metadata": {
    "tags": []
   },
   "outputs": [],
   "source": [
    "G = nx.from_pandas_edgelist(proximity,'AML_gene','ass_gene')"
   ]
  },
  {
   "cell_type": "code",
   "execution_count": 155,
   "id": "3fa937c4-760b-4e1c-8709-ce3057e0fddd",
   "metadata": {
    "tags": []
   },
   "outputs": [
    {
     "data": {
      "text/plain": [
       "'/s/project/mll/sergey/effect_prediction/outrider/aml_association/promoter_variants/max_gnomAD_5e-4/promoters_5000_symm.tsv'"
      ]
     },
     "execution_count": 155,
     "metadata": {},
     "output_type": "execute_result"
    }
   ],
   "source": [
    "data_dir + 'aml_association/promoter_variants/max_gnomAD_5e-4/promoters_5000_symm.tsv'"
   ]
  },
  {
   "cell_type": "code",
   "execution_count": null,
   "id": "30dfd44f-8169-4352-89b1-1ca6ed633315",
   "metadata": {},
   "outputs": [],
   "source": []
  },
  {
   "cell_type": "code",
   "execution_count": 74,
   "id": "b43239a3-d492-4c78-a722-60d03ce36147",
   "metadata": {
    "tags": []
   },
   "outputs": [
    {
     "data": {
      "image/png": "[encoded data removed]",
      "text/plain": [
       "<Figure size 432x288 with 1 Axes>"
      ]
     },
     "metadata": {},
     "output_type": "display_data"
    }
   ],
   "source": [
    "df = pd.DataFrame({ 'from':['A', 'B', 'C','A'], 'to':['D', 'A', 'E','C']})\n",
    " \n",
    "# Build your graph\n",
    "G=nx.from_pandas_edgelist(df, 'from', 'to')\n",
    " \n",
    "# Plot it\n",
    "nx.draw(G, with_labels=True)\n",
    "plt.show()"
   ]
  },
  {
   "cell_type": "code",
   "execution_count": 10,
   "id": "f93cd1e6",
   "metadata": {},
   "outputs": [
    {
     "data": {
      "text/html": [
       "<div>\n",
       "<style scoped>\n",
       "    .dataframe tbody tr th:only-of-type {\n",
       "        vertical-align: middle;\n",
       "    }\n",
       "\n",
       "    .dataframe tbody tr th {\n",
       "        vertical-align: top;\n",
       "    }\n",
       "\n",
       "    .dataframe thead th {\n",
       "        text-align: right;\n",
       "    }\n",
       "</style>\n",
       "<table border=\"1\" class=\"dataframe\">\n",
       "  <thead>\n",
       "    <tr style=\"text-align: right;\">\n",
       "      <th></th>\n",
       "      <th>ass_gene</th>\n",
       "      <th>AML_gene</th>\n",
       "      <th>sampleID</th>\n",
       "      <th>AML_gene_vars</th>\n",
       "    </tr>\n",
       "  </thead>\n",
       "  <tbody>\n",
       "    <tr>\n",
       "      <th>0</th>\n",
       "      <td>ENSG00000111540</td>\n",
       "      <td>ENSG00000107736</td>\n",
       "      <td>MLL_00268</td>\n",
       "      <td>0.0</td>\n",
       "    </tr>\n",
       "    <tr>\n",
       "      <th>1</th>\n",
       "      <td>ENSG00000135655</td>\n",
       "      <td>ENSG00000107736</td>\n",
       "      <td>MLL_00268</td>\n",
       "      <td>0.0</td>\n",
       "    </tr>\n",
       "    <tr>\n",
       "      <th>2</th>\n",
       "      <td>ENSG00000274290</td>\n",
       "      <td>ENSG00000107736</td>\n",
       "      <td>MLL_00268</td>\n",
       "      <td>0.0</td>\n",
       "    </tr>\n",
       "    <tr>\n",
       "      <th>3</th>\n",
       "      <td>ENSG00000115649</td>\n",
       "      <td>ENSG00000107736</td>\n",
       "      <td>MLL_00268</td>\n",
       "      <td>0.0</td>\n",
       "    </tr>\n",
       "    <tr>\n",
       "      <th>4</th>\n",
       "      <td>ENSG00000198589</td>\n",
       "      <td>ENSG00000107736</td>\n",
       "      <td>MLL_00268</td>\n",
       "      <td>0.0</td>\n",
       "    </tr>\n",
       "    <tr>\n",
       "      <th>...</th>\n",
       "      <td>...</td>\n",
       "      <td>...</td>\n",
       "      <td>...</td>\n",
       "      <td>...</td>\n",
       "    </tr>\n",
       "    <tr>\n",
       "      <th>2324</th>\n",
       "      <td>ENSG00000115020</td>\n",
       "      <td>ENSG00000196712</td>\n",
       "      <td>MUC_00563</td>\n",
       "      <td>0.0</td>\n",
       "    </tr>\n",
       "    <tr>\n",
       "      <th>2325</th>\n",
       "      <td>ENSG00000072849</td>\n",
       "      <td>ENSG00000196712</td>\n",
       "      <td>MUC_00563</td>\n",
       "      <td>0.0</td>\n",
       "    </tr>\n",
       "    <tr>\n",
       "      <th>2326</th>\n",
       "      <td>ENSG00000198771</td>\n",
       "      <td>ENSG00000196712</td>\n",
       "      <td>MUC_00563</td>\n",
       "      <td>0.0</td>\n",
       "    </tr>\n",
       "    <tr>\n",
       "      <th>2327</th>\n",
       "      <td>ENSG00000198690</td>\n",
       "      <td>ENSG00000196712</td>\n",
       "      <td>MUC_00563</td>\n",
       "      <td>0.0</td>\n",
       "    </tr>\n",
       "    <tr>\n",
       "      <th>2328</th>\n",
       "      <td>ENSG00000263809</td>\n",
       "      <td>ENSG00000196712</td>\n",
       "      <td>MUC_00563</td>\n",
       "      <td>0.0</td>\n",
       "    </tr>\n",
       "  </tbody>\n",
       "</table>\n",
       "<p>2329 rows × 4 columns</p>\n",
       "</div>"
      ],
      "text/plain": [
       "             ass_gene         AML_gene   sampleID  AML_gene_vars\n",
       "0     ENSG00000111540  ENSG00000107736  MLL_00268            0.0\n",
       "1     ENSG00000135655  ENSG00000107736  MLL_00268            0.0\n",
       "2     ENSG00000274290  ENSG00000107736  MLL_00268            0.0\n",
       "3     ENSG00000115649  ENSG00000107736  MLL_00268            0.0\n",
       "4     ENSG00000198589  ENSG00000107736  MLL_00268            0.0\n",
       "...               ...              ...        ...            ...\n",
       "2324  ENSG00000115020  ENSG00000196712  MUC_00563            0.0\n",
       "2325  ENSG00000072849  ENSG00000196712  MUC_00563            0.0\n",
       "2326  ENSG00000198771  ENSG00000196712  MUC_00563            0.0\n",
       "2327  ENSG00000198690  ENSG00000196712  MUC_00563            0.0\n",
       "2328  ENSG00000263809  ENSG00000196712  MUC_00563            0.0\n",
       "\n",
       "[2329 rows x 4 columns]"
      ]
     },
     "execution_count": 10,
     "metadata": {},
     "output_type": "execute_result"
    }
   ],
   "source": [
    "#proximity = proximity.applymap(lambda x: names_matching.get(x,x))\n",
    "\n",
    "#proximity = proximity[['AML_gene','ass_gene','sampleID']].sort_values(\n",
    "#    by='AML_gene').set_index(['AML_gene','ass_gene'])"
   ]
  },
  {
   "cell_type": "code",
   "execution_count": 177,
   "id": "631c9bb9-9308-4505-8c63-fcb4ab5a44b9",
   "metadata": {
    "tags": []
   },
   "outputs": [
    {
     "ename": "NameError",
     "evalue": "name 'w' is not defined",
     "output_type": "error",
     "traceback": [
      "\u001b[0;31m---------------------------------------------------------------------------\u001b[0m",
      "\u001b[0;31mNameError\u001b[0m                                 Traceback (most recent call last)",
      "Input \u001b[0;32mIn [177]\u001b[0m, in \u001b[0;36m<cell line: 1>\u001b[0;34m()\u001b[0m\n\u001b[0;32m----> 1\u001b[0m \u001b[43mw\u001b[49m\n",
      "\u001b[0;31mNameError\u001b[0m: name 'w' is not defined"
     ]
    }
   ],
   "source": []
  },
  {
   "cell_type": "code",
   "execution_count": null,
   "id": "609c96ac-36b2-473f-8907-fa9d4b8326a4",
   "metadata": {},
   "outputs": [],
   "source": []
  }
 ],
 "metadata": {
  "kernelspec": {
   "display_name": "Python 3 (ipykernel)",
   "language": "python",
   "name": "python3"
  },
  "language_info": {
   "codemirror_mode": {
    "name": "ipython",
    "version": 3
   },
   "file_extension": ".py",
   "mimetype": "text/x-python",
   "name": "python",
   "nbconvert_exporter": "python",
   "pygments_lexer": "ipython3",
   "version": "3.8.13"
  }
 },
 "nbformat": 4,
 "nbformat_minor": 5
}
