{
 "cells": [
  {
   "cell_type": "code",
   "execution_count": 2,
   "id": "7a98b96d",
   "metadata": {},
   "outputs": [],
   "source": [
    "import pyreadr\n",
    "\n",
    "result = pyreadr.read_r('../../OUTRIDER/OUTRIDER_results_all.Rds')"
   ]
  },
  {
   "cell_type": "code",
   "execution_count": 3,
   "id": "94d368d9",
   "metadata": {},
   "outputs": [],
   "source": [
    "df = result[None][['geneID','sampleID','pValue','padjust','l2fc']]"
   ]
  },
  {
   "cell_type": "code",
   "execution_count": 4,
   "id": "025d0fd3",
   "metadata": {},
   "outputs": [
    {
     "name": "stderr",
     "output_type": "stream",
     "text": [
      "/var/folders/g8/63m7r3ks4j70zfydbky4bv1jx0rfhz/T/ipykernel_7704/1787564263.py:1: SettingWithCopyWarning: \n",
      "A value is trying to be set on a copy of a slice from a DataFrame.\n",
      "Try using .loc[row_indexer,col_indexer] = value instead\n",
      "\n",
      "See the caveats in the documentation: https://pandas.pydata.org/pandas-docs/stable/user_guide/indexing.html#returning-a-view-versus-a-copy\n",
      "  df['geneName'] = df.geneID.apply(lambda x:x.split('.')[0])\n"
     ]
    }
   ],
   "source": [
    "df['geneName'] = df.geneID.apply(lambda x:x.split('.')[0])"
   ]
  },
  {
   "cell_type": "code",
   "execution_count": 5,
   "id": "68745baf",
   "metadata": {},
   "outputs": [],
   "source": [
    "df[['geneName','sampleID','pValue','padjust','l2fc']].to_csv('../../OUTRIDER/outrider_all.csv.gz',index=None)"
   ]
  },
  {
   "cell_type": "code",
   "execution_count": 10,
   "id": "88f91131",
   "metadata": {},
   "outputs": [
    {
     "data": {
      "text/html": [
       "<div>\n",
       "<style scoped>\n",
       "    .dataframe tbody tr th:only-of-type {\n",
       "        vertical-align: middle;\n",
       "    }\n",
       "\n",
       "    .dataframe tbody tr th {\n",
       "        vertical-align: top;\n",
       "    }\n",
       "\n",
       "    .dataframe thead th {\n",
       "        text-align: right;\n",
       "    }\n",
       "</style>\n",
       "<table border=\"1\" class=\"dataframe\">\n",
       "  <thead>\n",
       "    <tr style=\"text-align: right;\">\n",
       "      <th></th>\n",
       "      <th>geneID</th>\n",
       "      <th>sampleID</th>\n",
       "      <th>pValue</th>\n",
       "      <th>l2fc</th>\n",
       "      <th>geneName</th>\n",
       "    </tr>\n",
       "  </thead>\n",
       "  <tbody>\n",
       "    <tr>\n",
       "      <th>0</th>\n",
       "      <td>ENSG00000213741.10_6</td>\n",
       "      <td>MLL_17166</td>\n",
       "      <td>4.205244e-189</td>\n",
       "      <td>-10.48</td>\n",
       "      <td>ENSG00000213741</td>\n",
       "    </tr>\n",
       "    <tr>\n",
       "      <th>1</th>\n",
       "      <td>ENSG00000213741.10_6</td>\n",
       "      <td>MLL_20382</td>\n",
       "      <td>3.843558e-169</td>\n",
       "      <td>-10.11</td>\n",
       "      <td>ENSG00000213741</td>\n",
       "    </tr>\n",
       "    <tr>\n",
       "      <th>2</th>\n",
       "      <td>ENSG00000215301.10_8</td>\n",
       "      <td>MLL_01076</td>\n",
       "      <td>4.464477e-147</td>\n",
       "      <td>-4.29</td>\n",
       "      <td>ENSG00000215301</td>\n",
       "    </tr>\n",
       "    <tr>\n",
       "      <th>3</th>\n",
       "      <td>ENSG00000165525.18_4</td>\n",
       "      <td>MLL_17166</td>\n",
       "      <td>5.145036e-119</td>\n",
       "      <td>-8.74</td>\n",
       "      <td>ENSG00000165525</td>\n",
       "    </tr>\n",
       "    <tr>\n",
       "      <th>4</th>\n",
       "      <td>ENSG00000167004.13_3</td>\n",
       "      <td>MLL_33031</td>\n",
       "      <td>1.703930e-117</td>\n",
       "      <td>-3.13</td>\n",
       "      <td>ENSG00000167004</td>\n",
       "    </tr>\n",
       "    <tr>\n",
       "      <th>...</th>\n",
       "      <td>...</td>\n",
       "      <td>...</td>\n",
       "      <td>...</td>\n",
       "      <td>...</td>\n",
       "      <td>...</td>\n",
       "    </tr>\n",
       "    <tr>\n",
       "      <th>51724598</th>\n",
       "      <td>ENSG00000288534.1_1</td>\n",
       "      <td>MLL_30494</td>\n",
       "      <td>3.716947e-01</td>\n",
       "      <td>0.15</td>\n",
       "      <td>ENSG00000288534</td>\n",
       "    </tr>\n",
       "    <tr>\n",
       "      <th>51724599</th>\n",
       "      <td>ENSG00000288550.1_1</td>\n",
       "      <td>MLL_30494</td>\n",
       "      <td>6.163935e-02</td>\n",
       "      <td>0.38</td>\n",
       "      <td>ENSG00000288550</td>\n",
       "    </tr>\n",
       "    <tr>\n",
       "      <th>51724600</th>\n",
       "      <td>ENSG00000288558.1_1</td>\n",
       "      <td>MLL_30494</td>\n",
       "      <td>5.386479e-01</td>\n",
       "      <td>0.07</td>\n",
       "      <td>ENSG00000288558</td>\n",
       "    </tr>\n",
       "    <tr>\n",
       "      <th>51724601</th>\n",
       "      <td>ENSG00000288564.1_1</td>\n",
       "      <td>MLL_30494</td>\n",
       "      <td>2.635447e-01</td>\n",
       "      <td>0.15</td>\n",
       "      <td>ENSG00000288564</td>\n",
       "    </tr>\n",
       "    <tr>\n",
       "      <th>51724602</th>\n",
       "      <td>ENSG00000288570.1_1</td>\n",
       "      <td>MLL_30494</td>\n",
       "      <td>1.000000e+00</td>\n",
       "      <td>0.21</td>\n",
       "      <td>ENSG00000288570</td>\n",
       "    </tr>\n",
       "  </tbody>\n",
       "</table>\n",
       "<p>51724603 rows × 5 columns</p>\n",
       "</div>"
      ],
      "text/plain": [
       "                        geneID   sampleID         pValue   l2fc  \\\n",
       "0         ENSG00000213741.10_6  MLL_17166  4.205244e-189 -10.48   \n",
       "1         ENSG00000213741.10_6  MLL_20382  3.843558e-169 -10.11   \n",
       "2         ENSG00000215301.10_8  MLL_01076  4.464477e-147  -4.29   \n",
       "3         ENSG00000165525.18_4  MLL_17166  5.145036e-119  -8.74   \n",
       "4         ENSG00000167004.13_3  MLL_33031  1.703930e-117  -3.13   \n",
       "...                        ...        ...            ...    ...   \n",
       "51724598   ENSG00000288534.1_1  MLL_30494   3.716947e-01   0.15   \n",
       "51724599   ENSG00000288550.1_1  MLL_30494   6.163935e-02   0.38   \n",
       "51724600   ENSG00000288558.1_1  MLL_30494   5.386479e-01   0.07   \n",
       "51724601   ENSG00000288564.1_1  MLL_30494   2.635447e-01   0.15   \n",
       "51724602   ENSG00000288570.1_1  MLL_30494   1.000000e+00   0.21   \n",
       "\n",
       "                 geneName  \n",
       "0         ENSG00000213741  \n",
       "1         ENSG00000213741  \n",
       "2         ENSG00000215301  \n",
       "3         ENSG00000165525  \n",
       "4         ENSG00000167004  \n",
       "...                   ...  \n",
       "51724598  ENSG00000288534  \n",
       "51724599  ENSG00000288550  \n",
       "51724600  ENSG00000288558  \n",
       "51724601  ENSG00000288564  \n",
       "51724602  ENSG00000288570  \n",
       "\n",
       "[51724603 rows x 5 columns]"
      ]
     },
     "execution_count": 10,
     "metadata": {},
     "output_type": "execute_result"
    }
   ],
   "source": [
    "df"
   ]
  },
  {
   "cell_type": "code",
   "execution_count": null,
   "id": "ab33c36c",
   "metadata": {},
   "outputs": [],
   "source": []
  }
 ],
 "metadata": {
  "kernelspec": {
   "display_name": "Python 3 (ipykernel)",
   "language": "python",
   "name": "python3"
  },
  "language_info": {
   "codemirror_mode": {
    "name": "ipython",
    "version": 3
   },
   "file_extension": ".py",
   "mimetype": "text/x-python",
   "name": "python",
   "nbconvert_exporter": "python",
   "pygments_lexer": "ipython3",
   "version": "3.11.0"
  }
 },
 "nbformat": 4,
 "nbformat_minor": 5
}
