{
 "cells": [
  {
   "cell_type": "code",
   "execution_count": 2,
   "id": "afa4c833-d42a-4496-be45-6eacbd4dc609",
   "metadata": {},
   "outputs": [],
   "source": [
    "import pyreadr\n",
    "import pandas as pd"
   ]
  },
  {
   "cell_type": "code",
   "execution_count": 3,
   "id": "9cba0a23-a2ce-4d6e-b8ca-16d1acf5f62e",
   "metadata": {},
   "outputs": [],
   "source": [
    "#all_df = pyreadr.read_r('/lustre/groups/epigenereg01/workspace/projects/vale/outrider/outrider_210223/OUTRIDER_results_all.Rds')\n",
    "#genelist = all_df[None][['geneID', 'sampleID', 'pValue']]\n",
    "#genelist.to_csv('/lustre/groups/epigenereg01/workspace/projects/vale/outrider/outrider_210223/OUTRIDER_gene_list_all.csv.gz',index=None)"
   ]
  },
  {
   "cell_type": "code",
   "execution_count": 4,
   "id": "ff7b57cb-6316-4b6c-8fc5-e881c3bb3485",
   "metadata": {},
   "outputs": [],
   "source": [
    "genelist = pd.read_csv('/lustre/groups/epigenereg01/workspace/projects/vale/outrider/outrider_210223/OUTRIDER_gene_list_all.csv.gz',)"
   ]
  },
  {
   "cell_type": "code",
   "execution_count": 6,
   "id": "1fadc5ca-6c31-493c-8868-ddec52f6311b",
   "metadata": {},
   "outputs": [],
   "source": [
    "outrider_aml = '/lustre/groups/epigenereg01/workspace/projects/vale/outrider/outrider_210223/tables/OUTRIDER_results_AML_panel.tsv'\n",
    "\n",
    "significant_df = pd.read_csv(outrider_aml)[['geneID', 'sampleID', 'pValue', 'VCF_file']]"
   ]
  },
  {
   "cell_type": "code",
   "execution_count": 7,
   "id": "308052c6-b299-47d6-8c05-d17629a4dede",
   "metadata": {},
   "outputs": [
    {
     "data": {
      "text/plain": [
       "1.60618899708419e-05"
      ]
     },
     "execution_count": 7,
     "metadata": {},
     "output_type": "execute_result"
    }
   ],
   "source": [
    "significant_df.pValue.max()"
   ]
  },
  {
   "cell_type": "code",
   "execution_count": 11,
   "id": "63743bcb-4e5f-49b3-9439-102445b5297b",
   "metadata": {},
   "outputs": [],
   "source": [
    "genelist = genelist.merge(significant_df[['sampleID','VCF_file']])"
   ]
  },
  {
   "cell_type": "code",
   "execution_count": 12,
   "id": "8f6a059f-4b34-4f1d-a3d7-a2d502c62d1f",
   "metadata": {},
   "outputs": [],
   "source": [
    "insignificant_pairs = genelist[genelist.pValue>0.1]"
   ]
  },
  {
   "cell_type": "code",
   "execution_count": 15,
   "id": "3899b2a9-1a95-432e-bfae-bf5cf9230044",
   "metadata": {},
   "outputs": [],
   "source": [
    "insignificant_pairs.sample(n=120).to_csv('/lustre/groups/epigenereg01/workspace/projects/vale/outrider/outrider_210223/tables/120_random_insignif.csv', index=None)"
   ]
  },
  {
   "cell_type": "code",
   "execution_count": null,
   "id": "28530982-0edc-403b-94e2-83277e88ad3d",
   "metadata": {},
   "outputs": [],
   "source": [
    "#genelist.to_csv('/lustre/groups/epigenereg01/workspace/projects/vale/outrider/outrider_210223/tables/aml_samples_all_genes.csv', index=None)"
   ]
  },
  {
   "cell_type": "code",
   "execution_count": null,
   "id": "8b31072d-9009-4132-a465-12cc0f9244be",
   "metadata": {},
   "outputs": [],
   "source": []
  }
 ],
 "metadata": {
  "kernelspec": {
   "display_name": "Python 3 (ipykernel)",
   "language": "python",
   "name": "python3"
  },
  "language_info": {
   "codemirror_mode": {
    "name": "ipython",
    "version": 3
   },
   "file_extension": ".py",
   "mimetype": "text/x-python",
   "name": "python",
   "nbconvert_exporter": "python",
   "pygments_lexer": "ipython3",
   "version": "3.9.7"
  }
 },
 "nbformat": 4,
 "nbformat_minor": 5
}
