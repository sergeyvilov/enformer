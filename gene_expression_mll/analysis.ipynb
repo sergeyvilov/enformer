{
 "cells": [
  {
   "cell_type": "code",
   "execution_count": 1,
   "id": "f8680af5-316b-4ab6-83ba-4422102325fc",
   "metadata": {
    "tags": []
   },
   "outputs": [],
   "source": [
    "import numpy as np\n",
    "import pandas as pd\n",
    "import re\n",
    "import matplotlib.pyplot as plt\n",
    "import matplotlib\n",
    "import seaborn as sns\n",
    "import scipy.stats\n",
    "from statannotations.Annotator import Annotator\n",
    "\n",
    "matplotlib.rcParams.update({'font.size': 16})"
   ]
  },
  {
   "cell_type": "code",
   "execution_count": 2,
   "id": "f48ca67d-0ce1-4083-91aa-05a6af577272",
   "metadata": {
    "tags": []
   },
   "outputs": [],
   "source": [
    "promoter_suffix = '2000_symm'"
   ]
  },
  {
   "cell_type": "code",
   "execution_count": 3,
   "id": "aad9d555-85b3-42e8-935e-c681a38f8428",
   "metadata": {},
   "outputs": [],
   "source": [
    "activation_csv = '/s/project/mll/sergey/effect_prediction/outrider/input_data/activation/res_filter_out_all.csv.gz' "
   ]
  },
  {
   "cell_type": "code",
   "execution_count": 4,
   "id": "535b0b05-3ca3-4c0e-9cd8-35d2fa4ef1b8",
   "metadata": {
    "tags": []
   },
   "outputs": [],
   "source": [
    "outrider_csv = '/s/project/mll/sergey/effect_prediction/outrider/input_data/outrider/outrider_all_v33b.csv.gz' "
   ]
  },
  {
   "cell_type": "code",
   "execution_count": 69,
   "id": "04a11453-000c-4a17-9bf9-d604148d895f",
   "metadata": {
    "tags": []
   },
   "outputs": [],
   "source": [
    "promoter_mutations_tsv = f'/s/project/mll/sergey/effect_prediction/promoter_mutations/{promoter_suffix}/MLL_filtering/mutations_filter_counts.tsv'\n",
    "\n",
    "coding_mutations_tsv = '/s/project/mll/sergey/effect_prediction/promoter_mutations/coding_mutations/MLL_filtering/filter_counts/mutations_filter_counts.tsv'\n",
    "\n",
    "vcf_matching = '/s/project/mll/sergey/effect_prediction/promoter_mutations/analysed_samples/analysed_vcfs.tsv'\n",
    "\n",
    "splicing_tsv = '/s/project/mll/sergey/MLL_data/processed/significant_splicing.tsv'\n",
    "\n",
    "structural_tsv = '/s/project/mll/sergey/MLL_data/processed/vale.svs.filtered.tsv.gz'\n",
    "\n",
    "#copy_number_tsv = '/s/project/mll/sergey/MLL_data/processed/cnv_mll_NoOverlapNoMaxlen.tsv'\n",
    "copy_number_tsv = '/s/project/mll/sergey/MLL_data/processed/cnv_mll_gencode_gene_map_bruteforce.tsv'\n",
    "\n",
    "aml_variants_tsv='/s/project/mll/sergey/effect_prediction/outrider/input_data/20221207_paper_AML_variants.txt'"
   ]
  },
  {
   "cell_type": "code",
   "execution_count": 70,
   "id": "d55d824d-b9f8-4889-81c5-0823b69d3896",
   "metadata": {
    "tags": []
   },
   "outputs": [],
   "source": [
    "output_dir = '/s/project/mll/sergey/effect_prediction/promoter_mutations/res/'"
   ]
  },
  {
   "cell_type": "code",
   "execution_count": 71,
   "id": "f5204b82-12ea-4442-8788-01a6b19ec34f",
   "metadata": {
    "tags": []
   },
   "outputs": [],
   "source": [
    "activation_df = pd.read_csv(activation_csv, usecols=[0,1,3,4]) \n",
    "outrider_df = pd.read_csv(outrider_csv, usecols=[0,1,3,4]) \n",
    "    \n",
    "activation_df['tool']='activation'\n",
    "outrider_df['tool']='outrider'\n",
    "\n",
    "results_df = pd.concat([outrider_df,activation_df])"
   ]
  },
  {
   "cell_type": "code",
   "execution_count": 72,
   "id": "7932b176-baba-46e7-bc0e-93509a8c56b0",
   "metadata": {
    "tags": []
   },
   "outputs": [
    {
     "data": {
      "text/plain": [
       "45568"
      ]
     },
     "execution_count": 72,
     "metadata": {},
     "output_type": "execute_result"
    }
   ],
   "source": [
    "results_df['abnormal'] = results_df.padjust<0.05\n",
    "results_df['abnormal'].sum()"
   ]
  },
  {
   "cell_type": "code",
   "execution_count": 73,
   "id": "b5354585-1f4a-4a41-a37b-33a19bfed528",
   "metadata": {
    "tags": []
   },
   "outputs": [],
   "source": [
    "matching_df = pd.read_csv(vcf_matching, header=None, sep='\\t', names=['array_id','vcf']).set_index('vcf').squeeze()"
   ]
  },
  {
   "cell_type": "code",
   "execution_count": 74,
   "id": "ec5b615e-339d-4eb9-b24c-3e1625e9c3e5",
   "metadata": {
    "tags": []
   },
   "outputs": [],
   "source": [
    "#results_df = results_df[results_df.sampleID.isin(matching_df)]"
   ]
  },
  {
   "cell_type": "code",
   "execution_count": 75,
   "id": "a513aeef-6ca1-4752-9e4d-4d7454f695be",
   "metadata": {
    "tags": []
   },
   "outputs": [],
   "source": [
    "results_df.drop_duplicates(subset=['sampleID','geneName'], inplace=True)"
   ]
  },
  {
   "cell_type": "code",
   "execution_count": 76,
   "id": "7202b38c-5b95-424b-a50f-4c65b0741f6a",
   "metadata": {
    "tags": []
   },
   "outputs": [
    {
     "name": "stdout",
     "output_type": "stream",
     "text": [
      "Sample-gene pairs: 71376080, samples: 3760, genes: 18983\n"
     ]
    }
   ],
   "source": [
    "print(f'Sample-gene pairs: {len(results_df)}, samples: {len(results_df.sampleID.unique())}, genes: {len(results_df.geneName.unique())}')"
   ]
  },
  {
   "cell_type": "code",
   "execution_count": 77,
   "id": "ff34d5c1-7199-4641-9aef-3061e4e356da",
   "metadata": {
    "tags": []
   },
   "outputs": [],
   "source": [
    "results_df.rename(columns={'sampleID':'array_id'}, inplace=True)"
   ]
  },
  {
   "cell_type": "code",
   "execution_count": 78,
   "id": "162ed16f-61ab-4da4-8674-5a7becb217f0",
   "metadata": {
    "tags": []
   },
   "outputs": [],
   "source": [
    "promoter_mutations = pd.read_csv(promoter_mutations_tsv, header=None, sep='\\t', usecols=[5,6], names=['geneName','vcf']) #promoter mutations after filtering\n",
    "\n",
    "promoter_mutations['promoter_variant'] = 1"
   ]
  },
  {
   "cell_type": "code",
   "execution_count": 79,
   "id": "1691369d-c6ec-410d-9ddf-91ea39e6e366",
   "metadata": {
    "tags": []
   },
   "outputs": [],
   "source": [
    "coding_mutations = pd.read_csv(coding_mutations_tsv, header=None, sep='\\t', usecols=[5,6,7,8,9,10,11,12], \n",
    "    names=['frameshift_variant', 'stop_gained', 'NMD_transcript_variant', 'splice_donor_variant', 'splice_acceptor_variant','splice_region_variant', 'geneName','vcf']) #promoter mutations after filtering"
   ]
  },
  {
   "cell_type": "code",
   "execution_count": 80,
   "id": "20405e89-a26b-4617-b100-43ee25d2d359",
   "metadata": {
    "tags": []
   },
   "outputs": [],
   "source": [
    "#coding_mutations['splice_site_variant'] = coding_mutations.splice_acceptor_variant + coding_mutations.splice_donor_variant\n",
    "coding_mutations['splice_related_variant'] = coding_mutations.splice_acceptor_variant + coding_mutations.splice_donor_variant + coding_mutations.splice_region_variant\n",
    "\n",
    "coding_mutations.drop(columns=['NMD_transcript_variant', 'splice_donor_variant', 'splice_acceptor_variant','splice_region_variant'], inplace=True)"
   ]
  },
  {
   "cell_type": "code",
   "execution_count": 81,
   "id": "ac1ba595-b079-475f-8e17-48844b2e1d04",
   "metadata": {
    "tags": []
   },
   "outputs": [],
   "source": [
    "mutations_df = promoter_mutations.merge(coding_mutations, how='outer')"
   ]
  },
  {
   "cell_type": "code",
   "execution_count": 82,
   "id": "3628d5ff-a179-4f64-b9e3-ff207351f6a1",
   "metadata": {
    "tags": []
   },
   "outputs": [],
   "source": [
    "# remove genes with mutations explained by MLL\n",
    "\n",
    "#mutations_mll = pd.read_csv(aml_variants_tsv, sep='\\t')\n",
    "\n",
    "#matching_genes = pd.read_csv('/s/project/mll/sergey/effect_prediction/promoter_mutations/ensemble_to_HGNC_GRCh38.tsv.gz', sep='\\t', \n",
    "#                      header=None, names=['geneName', 'symbol'], usecols=[0,1], skiprows=1)\n",
    "\n",
    "#matching_genes = matching_genes[~matching_genes.symbol.isna()]\n",
    "\n",
    "#mutations_mll = mutations_mll[['array_id','symbol']].merge(matching_genes)\n",
    "\n",
    "#results_df = results_df.merge(mutations_mll[['array_id','geneName']],\n",
    "#                   indicator = True, how='left').loc[lambda x : x['_merge']=='left_only'].drop(columns='_merge')"
   ]
  },
  {
   "cell_type": "code",
   "execution_count": 83,
   "id": "f90b36c5-e611-41cc-aea6-e8cbbac47ef8",
   "metadata": {
    "tags": []
   },
   "outputs": [],
   "source": [
    "mutations_df['array_id'] = mutations_df.vcf.map(matching_df) #mapping between vcf and MLL array_id "
   ]
  },
  {
   "cell_type": "code",
   "execution_count": 84,
   "id": "77513796-862d-4f26-ae09-785f0c9a571a",
   "metadata": {
    "tags": []
   },
   "outputs": [],
   "source": [
    "mutations_df.geneName = mutations_df.geneName.apply(lambda x: x.split(',') if ',' in x else x)"
   ]
  },
  {
   "cell_type": "code",
   "execution_count": 85,
   "id": "5a767228-f72d-4052-b77a-f866cee9b09a",
   "metadata": {
    "tags": []
   },
   "outputs": [],
   "source": [
    "mutations_df = mutations_df.explode('geneName') #split by gene where multiple genes per mutation"
   ]
  },
  {
   "cell_type": "code",
   "execution_count": 86,
   "id": "ee8e53e5-e117-483c-8303-f47adae331f9",
   "metadata": {
    "tags": []
   },
   "outputs": [],
   "source": [
    "mutations_counts = mutations_df.drop(columns='vcf').groupby(['array_id','geneName']).sum().astype(bool)"
   ]
  },
  {
   "cell_type": "code",
   "execution_count": 87,
   "id": "d81868c2-2118-4740-a0cd-7a975a567b78",
   "metadata": {
    "tags": []
   },
   "outputs": [],
   "source": [
    "results_df = results_df.merge(mutations_counts.reset_index(), how='left')"
   ]
  },
  {
   "cell_type": "code",
   "execution_count": 88,
   "id": "61357a56-3673-4b55-a4a1-d2d811a12c3a",
   "metadata": {
    "tags": []
   },
   "outputs": [],
   "source": [
    "results_df = results_df.fillna(False)"
   ]
  },
  {
   "cell_type": "code",
   "execution_count": 89,
   "id": "53c5cf5f-9059-4aeb-bc7f-56a215fb5164",
   "metadata": {
    "tags": []
   },
   "outputs": [],
   "source": [
    "#mark sample-gene pairs with splicing outliers\n",
    "\n",
    "splicing_df = pd.read_csv(splicing_tsv, sep='\\t')[['geneName','array_id']].drop_duplicates()\n",
    "\n",
    "results_df = results_df.merge(splicing_df,\n",
    "                   indicator = True, how='left').rename(columns={'_merge':'splicing_outlier'})"
   ]
  },
  {
   "cell_type": "code",
   "execution_count": 90,
   "id": "889e3fea-0a2d-4fde-94e1-9c9d47bab629",
   "metadata": {
    "tags": []
   },
   "outputs": [],
   "source": [
    "#mark sample-gene pairs with structural variants\n",
    "\n",
    "sv_df = pd.read_csv(structural_tsv, sep='\\t')[['geneName','array_id','svtype']].drop_duplicates()\n",
    "\n",
    "sv_df = sv_df.groupby(['array_id','geneName']).svtype.apply(lambda x:','.join(x)).reset_index()\n",
    "\n",
    "results_df = results_df.merge(sv_df[['geneName','array_id','svtype']],\n",
    "                   indicator = True, how='left').rename(columns={'_merge':'structural_variant'})"
   ]
  },
  {
   "cell_type": "code",
   "execution_count": 91,
   "id": "651a6634-1053-4c7d-ab85-12461a348d86",
   "metadata": {
    "tags": []
   },
   "outputs": [
    {
     "name": "stderr",
     "output_type": "stream",
     "text": [
      "/scratch/tmp/l_vilov/ipykernel_3408421/353860312.py:3: DtypeWarning: Columns (1) have mixed types. Specify dtype option on import or set low_memory=False.\n",
      "  cnv_df = pd.read_csv(copy_number_tsv, sep='\\t')[['geneName','array_id','call']].drop_duplicates()\n"
     ]
    }
   ],
   "source": [
    "#mark sample-gene pairs with copy number variants\n",
    "\n",
    "cnv_df = pd.read_csv(copy_number_tsv, sep='\\t')[['geneName','array_id','call']].drop_duplicates()\n",
    "\n",
    "cnv_gain = cnv_df[cnv_df.call=='+']\n",
    "cnv_loss = cnv_df[cnv_df.call=='-']\n",
    "\n",
    "#cnv_df = cnv_df.groupby(['array_id','geneName']).call.apply(lambda x:','.join(x)).reset_index()\n",
    "\n",
    "results_df = results_df.merge(cnv_gain[['geneName','array_id']],\n",
    "                   indicator = True, how='left').rename(columns={'_merge':'copy_number_gain'})\n",
    "\n",
    "results_df = results_df.merge(cnv_loss[['geneName','array_id']],\n",
    "                   indicator = True, how='left').rename(columns={'_merge':'copy_number_loss'})"
   ]
  },
  {
   "cell_type": "code",
   "execution_count": 92,
   "id": "36874157-69a2-488e-b9ed-41a4f03dc6bd",
   "metadata": {
    "tags": []
   },
   "outputs": [
    {
     "data": {
      "text/plain": [
       "45568"
      ]
     },
     "execution_count": 92,
     "metadata": {},
     "output_type": "execute_result"
    }
   ],
   "source": [
    "results_df['abnormal'] = results_df.padjust<0.05\n",
    "results_df['abnormal'].sum()"
   ]
  },
  {
   "cell_type": "code",
   "execution_count": 93,
   "id": "60b2f86b-a5da-41cd-9c2c-e3603b084c62",
   "metadata": {
    "tags": []
   },
   "outputs": [],
   "source": [
    "results_df['structural_variant'] = results_df.structural_variant == 'both'\n",
    "results_df['splicing_outlier'] = results_df.splicing_outlier == 'both'\n",
    "results_df['copy_number_gain'] = results_df.copy_number_gain == 'both'\n",
    "results_df['copy_number_loss'] = results_df.copy_number_loss == 'both'\n",
    "results_df['copy_number'] = (results_df.copy_number_gain)|(results_df.copy_number_loss)"
   ]
  },
  {
   "cell_type": "code",
   "execution_count": 94,
   "id": "0c6f27fc-dbff-4eee-9992-d38dadd07b3b",
   "metadata": {
    "tags": []
   },
   "outputs": [
    {
     "data": {
      "text/plain": [
       "24.188026685393258"
      ]
     },
     "execution_count": 94,
     "metadata": {},
     "output_type": "execute_result"
    }
   ],
   "source": [
    "((results_df['abnormal'])&(results_df['copy_number'])).sum()/results_df['abnormal'].sum()*100"
   ]
  },
  {
   "cell_type": "code",
   "execution_count": 102,
   "id": "dab95f6b-df55-4c24-8040-e9817744deec",
   "metadata": {
    "tags": []
   },
   "outputs": [
    {
     "data": {
      "text/plain": [
       "'/s/project/mll/sergey/effect_prediction/promoter_mutations/res/mutations_accumulated_full.tsv.gz'"
      ]
     },
     "execution_count": 102,
     "metadata": {},
     "output_type": "execute_result"
    }
   ],
   "source": [
    "results_df.to_csv(output_dir + 'mutations_accumulated_full.tsv.gz', index=None,sep='\\t')\n",
    "output_dir + 'mutations_accumulated_full.tsv.gz'"
   ]
  },
  {
   "cell_type": "code",
   "execution_count": 98,
   "id": "b4384bfb-02e2-446a-9f8d-b87e8e6c8a5b",
   "metadata": {
    "tags": []
   },
   "outputs": [
    {
     "data": {
      "text/plain": [
       "6153"
      ]
     },
     "execution_count": 98,
     "metadata": {},
     "output_type": "execute_result"
    }
   ],
   "source": [
    "((results_df['abnormal'])&(results_df['copy_number_loss'])).sum()"
   ]
  },
  {
   "cell_type": "code",
   "execution_count": 101,
   "id": "566e54ba-755f-4d81-8447-9ebba6770f8a",
   "metadata": {
    "tags": []
   },
   "outputs": [],
   "source": [
    "results_df[['geneName', 'array_id', 'padjust', 'l2fc', 'tool', 'promoter_variant',\n",
    "       'frameshift_variant', 'stop_gained', 'splice_related_variant',\n",
    "       'structural_variant', 'copy_number_gain',\n",
    "       'copy_number_loss', 'copy_number']].to_csv(output_dir + 'mutations_accumulated.tsv.gz', index=None,sep='\\t')"
   ]
  },
  {
   "cell_type": "markdown",
   "id": "f1f10b0e-1303-4f99-be81-a0cf292ebd4f",
   "metadata": {
    "tags": []
   },
   "source": [
    "# Summarize results"
   ]
  },
  {
   "cell_type": "code",
   "execution_count": 100,
   "id": "61ac136b-da17-455a-9da1-31acf1ef8406",
   "metadata": {
    "tags": []
   },
   "outputs": [
    {
     "name": "stdout",
     "output_type": "stream",
     "text": [
      "ACTIVATION_MOST_SIGNIFICANT\n",
      "False promoter_variant\n",
      "False structural_variant\n",
      "False splice_related_variant\n",
      "False copy_number_gain\n",
      "False copy_number_loss\n",
      "False copy_number\n",
      "False frameshift_variant\n",
      "False stop_gained\n",
      "True promoter_variant\n",
      "True structural_variant\n",
      "True splice_related_variant\n",
      "True copy_number_gain\n",
      "True copy_number_loss\n",
      "True copy_number\n",
      "True frameshift_variant\n",
      "True stop_gained\n",
      "OUTRIDER_UNDEREXPRESSED_MOST_SIGNIFICANT\n",
      "False promoter_variant\n",
      "False structural_variant\n",
      "False splice_related_variant\n",
      "False copy_number_gain\n",
      "False copy_number_loss\n",
      "False copy_number\n",
      "False frameshift_variant\n",
      "False stop_gained\n",
      "True promoter_variant\n",
      "True structural_variant\n",
      "True splice_related_variant\n",
      "True copy_number_gain\n",
      "True copy_number_loss\n",
      "True copy_number\n",
      "True frameshift_variant\n",
      "True stop_gained\n",
      "OUTRIDER_OVEREXPRESSED_MOST_SIGNIFICANT\n",
      "False promoter_variant\n",
      "False structural_variant\n",
      "False splice_related_variant\n",
      "False copy_number_gain\n",
      "False copy_number_loss\n",
      "False copy_number\n",
      "False frameshift_variant\n",
      "False stop_gained\n",
      "True promoter_variant\n",
      "True structural_variant\n",
      "True splice_related_variant\n",
      "True copy_number_gain\n",
      "True copy_number_loss\n",
      "True copy_number\n",
      "True frameshift_variant\n",
      "True stop_gained\n"
     ]
    }
   ],
   "source": [
    "for subset_name in ('activation',\n",
    "                    'outrider_underexpressed',\n",
    "                    'outrider_overexpressed',\n",
    "                    'activation_most_significant',\n",
    "                    'outrider_underexpressed_most_significant',\n",
    "                    'outrider_overexpressed_most_significant'):\n",
    "    \n",
    "    print(subset_name.upper())\n",
    "\n",
    "    if 'activation' in subset_name:\n",
    "\n",
    "        subset_df = results_df[results_df.tool=='activation']\n",
    "\n",
    "    elif 'outrider_overexpressed' in subset_name:\n",
    "\n",
    "        subset_df = results_df[(results_df.tool=='outrider')&(results_df.l2fc>0)]\n",
    "\n",
    "    elif 'outrider_underexpressed' in subset_name:\n",
    "\n",
    "        subset_df = results_df[(results_df.tool=='outrider')&(results_df.l2fc<0)]\n",
    "\n",
    "    if 'most_significant' in subset_name:\n",
    "        normal_df = subset_df[subset_df.padjust>=0.05]\n",
    "        abnormal_df = subset_df[subset_df.padjust<0.05].sort_values(by=['padjust','geneName']).groupby('array_id').apply(lambda x: x.iloc[:3]).droplevel(0)\n",
    "        subset_df = pd.concat([normal_df,abnormal_df])\n",
    "\n",
    "    reasons = ['promoter_variant', 'structural_variant', 'splice_related_variant', \n",
    "               'copy_number_gain', 'copy_number_loss', 'copy_number', 'frameshift_variant', 'stop_gained']\n",
    "\n",
    "    res = []\n",
    "\n",
    "    for conf in (False,True):\n",
    "\n",
    "        for reason in reasons:\n",
    "\n",
    "            print(conf, reason)\n",
    "\n",
    "            if conf==False:\n",
    "\n",
    "                if not 'copy_number' in reason:\n",
    "                    flt = ~subset_df[[x for x in reasons if x!=reason]].sum(axis=1).astype(bool)\n",
    "                elif reason=='copy_number':\n",
    "                    flt = ~subset_df[[x for x in reasons if x!=reason and not 'copy_number_' in x]].sum(axis=1).astype(bool)\n",
    "                else:\n",
    "                    #reason=copy_number_gain or reason=copy_number_loss\n",
    "                    flt = ~subset_df[[x for x in reasons if x!=reason and x!='copy_number']].sum(axis=1).astype(bool)\n",
    "\n",
    "                contig_table = pd.crosstab(subset_df.loc[flt][reason].astype(str), subset_df.loc[flt]['abnormal'].astype(str), margins=True)\n",
    "            else:\n",
    "                contig_table = pd.crosstab(subset_df[reason].astype(str), subset_df['abnormal'].astype(str), margins=True)\n",
    "\n",
    "            if not 'True' in contig_table.index:\n",
    "                contig_table.loc['True'] = 0\n",
    "\n",
    "            counts_normal = contig_table.loc['All','False']\n",
    "            counts_abnormal = contig_table.loc['All','True']\n",
    "\n",
    "            mutated_activ = contig_table.loc['True','True']\n",
    "            nonmutated_activ = contig_table.loc['True','False']\n",
    "\n",
    "            #contig_table = contig_table+1 #correct for 0s\n",
    "\n",
    "            odds_ratio,p_value = scipy.stats.fisher_exact(contig_table.iloc[:2,:2])\n",
    "\n",
    "            res.append((conf,reason,counts_normal, counts_abnormal, \n",
    "                        mutated_activ, nonmutated_activ, odds_ratio, p_value))\n",
    "\n",
    "        #print(f'Fraction of sample-gene pairs with {reason} among abnormally expressed: {mutated_activ_prop:.3}')\n",
    "        #print(f'Fraction of sample-gene pairs with {reason} among normally expressed: {nonmutated_activ_prop:.3}')\n",
    "        \n",
    "    res = pd.DataFrame(res, columns=['confounders', 'mutation', 'total pairs normal', 'total pairs abnormal',\n",
    "                                 'mutations in abnomal', 'mutations in normal',\n",
    "                                 'odds ratio', 'p-value'])\n",
    "\n",
    "    res.mutation = res.mutation.apply(lambda x:x.replace('_variant',''))\n",
    "    \n",
    "    res.to_csv(output_dir + subset_name + '.csv', index=None)"
   ]
  },
  {
   "cell_type": "markdown",
   "id": "11e16f05-4e54-4944-ad7f-b676d091955d",
   "metadata": {},
   "source": [
    "# Structural variants"
   ]
  },
  {
   "cell_type": "code",
   "execution_count": 40,
   "id": "80506a51-5fac-43e3-9bcf-eca3f7a6a976",
   "metadata": {},
   "outputs": [
    {
     "name": "stderr",
     "output_type": "stream",
     "text": [
      "/scratch/tmp/l_vilov/ipykernel_1991858/582213760.py:4: SettingWithCopyWarning: \n",
      "A value is trying to be set on a copy of a slice from a DataFrame.\n",
      "Try using .loc[row_indexer,col_indexer] = value instead\n",
      "\n",
      "See the caveats in the documentation: https://pandas.pydata.org/pandas-docs/stable/user_guide/indexing.html#returning-a-view-versus-a-copy\n",
      "  sv_df['GE_change'] = sv_df.l2fc.apply(lambda x:x>0)\n"
     ]
    }
   ],
   "source": [
    "flt = ~results_df[[x for x in reasons if x!='structural_variant']].sum(axis=1).astype(bool)\n",
    "\n",
    "sv_df = results_df.loc[flt & results_df.structural_variant & results_df.abnormal]\n",
    "sv_df['GE_change'] = sv_df.l2fc.apply(lambda x:x>0)"
   ]
  },
  {
   "cell_type": "code",
   "execution_count": 41,
   "id": "9f49a569-9cd0-4bc6-9f9a-38e2da81faf4",
   "metadata": {
    "tags": []
   },
   "outputs": [],
   "source": [
    "from statannotations.stats.StatTest import StatTest\n",
    "\n",
    "def fishers_test(x,y):\n",
    "    contig_table = ((sum(x),len(x)-sum(x)),(sum(y),len(y)-sum(y)))\n",
    "    return scipy.stats.fisher_exact(contig_table)\n",
    "\n",
    "fishers = StatTest(fishers_test, \"Fisher's exact test\", 'fischer', 'statistic')"
   ]
  },
  {
   "cell_type": "code",
   "execution_count": 42,
   "id": "510dba34-da15-423f-bb66-137f813a2549",
   "metadata": {
    "tags": []
   },
   "outputs": [
    {
     "name": "stdout",
     "output_type": "stream",
     "text": [
      "p-value annotation legend:\n",
      "      ns: p <= 1.00e+00\n",
      "       *: 1.00e-02 < p <= 5.00e-02\n",
      "      **: 1.00e-03 < p <= 1.00e-02\n",
      "     ***: 1.00e-04 < p <= 1.00e-03\n",
      "    ****: p <= 1.00e-04\n",
      "\n",
      "INS vs. DEL: Fisher's exact test with Benjamini-Hochberg correction, P_val:1.000e+00 statistic=nan\n",
      "DUP vs. DEL: Fisher's exact test with Benjamini-Hochberg correction, P_val:1.000e+00 statistic=nan\n"
     ]
    },
    {
     "data": {
      "text/plain": [
       "<matplotlib.legend.Legend at 0x149aea4e1890>"
      ]
     },
     "execution_count": 42,
     "metadata": {},
     "output_type": "execute_result"
    },
    {
     "data": {
      "image/png": "[encoded data removed]",
      "text/plain": [
       "<Figure size 640x480 with 1 Axes>"
      ]
     },
     "metadata": {},
     "output_type": "display_data"
    }
   ],
   "source": [
    "inc_df = sv_df.groupby('svtype').l2fc.agg(lambda x:sum(x>0)).loc[['DUP','INS','DEL','INV','BND']].reset_index()\n",
    "inc_df['GE change'] = 'inc'\n",
    "dec_df = sv_df.groupby('svtype').l2fc.agg(lambda x:sum(x<0)).loc[['DUP','INS','DEL','INV','BND']].reset_index()\n",
    "dec_df['GE change'] = 'dec'\n",
    "df = pd.concat([inc_df,dec_df])\n",
    "\n",
    "fig, ax = plt.subplots()\n",
    "\n",
    "ax=sns.barplot(x='svtype', y='l2fc', hue='GE change', data=df,palette=['tab:orange', 'tab:blue']) \n",
    "\n",
    "box_pairs=[ (\"DEL\", \"INS\"),(\"DUP\", \"DEL\") ]\n",
    "\n",
    "annotator = Annotator(ax, box_pairs, data=sv_df, x=\"svtype\", y=\"GE_change\", order=['DUP','INS','DEL','INV','BND'])\n",
    "annotator.configure(test=fishers, text_format='star', loc='inside', comparisons_correction=\"BH\")\n",
    "#annotator.configure(test='t-test_paired', text_format='star', loc='inside', comparisons_correction=\"BH\")\n",
    "\n",
    "annotator.apply_and_annotate()\n",
    "\n",
    "ax.grid(True)\n",
    "ax.set_axisbelow(True)\n",
    "ax.set_ylabel('counts')\n",
    "ax.set_xlabel('')\n",
    "\n",
    "ax.legend(bbox_to_anchor=(1.35, 1.03), title='GE change')"
   ]
  },
  {
   "cell_type": "code",
   "execution_count": 43,
   "id": "87029e27-7a1a-4080-8ba2-5e30ffc6d68c",
   "metadata": {
    "tags": []
   },
   "outputs": [
    {
     "data": {
      "image/png": "[encoded data removed]",
      "text/plain": [
       "<Figure size 640x480 with 1 Axes>"
      ]
     },
     "metadata": {},
     "output_type": "display_data"
    }
   ],
   "source": [
    "vartype_c = sv_df.svtype.value_counts()\n",
    "y = vartype_c/vartype_c.sum()*100\n",
    "\n",
    "fig, ax = plt.subplots()\n",
    "\n",
    "ax.barh(vartype_c.index,y,color='#66C2A5')\n",
    "\n",
    "ax.set_xlim([0,60])\n",
    "\n",
    "#ax.set_yticks(ax.get_yticks())\n",
    "#ax.set_yticklabels([str(int(x))+'%' for x in ax.get_yticks()]);\n",
    "\n",
    "ax.set_xticks([])\n",
    "\n",
    "for i, v in enumerate(y):\n",
    "    plt.text(v + 0.5,i - 0.25,  str(int(v))+'%')"
   ]
  },
  {
   "cell_type": "markdown",
   "id": "24201e06-0b8b-4ea5-8323-59eec03db1a0",
   "metadata": {},
   "source": [
    "# Copy number"
   ]
  },
  {
   "cell_type": "code",
   "execution_count": 44,
   "id": "8b8ea19a-c834-4a94-b165-ee4ead5961e4",
   "metadata": {
    "tags": []
   },
   "outputs": [
    {
     "ename": "AttributeError",
     "evalue": "'DataFrame' object has no attribute 'copy_number_variant'",
     "output_type": "error",
     "traceback": [
      "\u001b[0;31m---------------------------------------------------------------------------\u001b[0m",
      "\u001b[0;31mAttributeError\u001b[0m                            Traceback (most recent call last)",
      "\u001b[0;32m/scratch/tmp/l_vilov/ipykernel_1991858/1283829012.py\u001b[0m in \u001b[0;36m?\u001b[0;34m()\u001b[0m\n\u001b[1;32m      1\u001b[0m \u001b[0mflt\u001b[0m \u001b[0;34m=\u001b[0m \u001b[0;34m~\u001b[0m\u001b[0mresults_df\u001b[0m\u001b[0;34m[\u001b[0m\u001b[0;34m[\u001b[0m\u001b[0mx\u001b[0m \u001b[0;32mfor\u001b[0m \u001b[0mx\u001b[0m \u001b[0;32min\u001b[0m \u001b[0mreasons\u001b[0m \u001b[0;32mif\u001b[0m \u001b[0mx\u001b[0m\u001b[0;34m!=\u001b[0m\u001b[0;34m'copy_number_variant'\u001b[0m\u001b[0;34m]\u001b[0m\u001b[0;34m]\u001b[0m\u001b[0;34m.\u001b[0m\u001b[0msum\u001b[0m\u001b[0;34m(\u001b[0m\u001b[0maxis\u001b[0m\u001b[0;34m=\u001b[0m\u001b[0;36m1\u001b[0m\u001b[0;34m)\u001b[0m\u001b[0;34m.\u001b[0m\u001b[0mastype\u001b[0m\u001b[0;34m(\u001b[0m\u001b[0mbool\u001b[0m\u001b[0;34m)\u001b[0m\u001b[0;34m\u001b[0m\u001b[0;34m\u001b[0m\u001b[0m\n\u001b[1;32m      2\u001b[0m \u001b[0;34m\u001b[0m\u001b[0m\n\u001b[0;32m----> 3\u001b[0;31m \u001b[0mcnv_df\u001b[0m \u001b[0;34m=\u001b[0m \u001b[0mresults_df\u001b[0m\u001b[0;34m.\u001b[0m\u001b[0mloc\u001b[0m\u001b[0;34m[\u001b[0m\u001b[0mflt\u001b[0m \u001b[0;34m&\u001b[0m \u001b[0mresults_df\u001b[0m\u001b[0;34m.\u001b[0m\u001b[0mcopy_number_variant\u001b[0m \u001b[0;34m&\u001b[0m \u001b[0mresults_df\u001b[0m\u001b[0;34m.\u001b[0m\u001b[0mabnormal\u001b[0m\u001b[0;34m,\u001b[0m\u001b[0;34m[\u001b[0m\u001b[0;34m'call'\u001b[0m\u001b[0;34m,\u001b[0m\u001b[0;34m'l2fc'\u001b[0m\u001b[0;34m]\u001b[0m\u001b[0;34m]\u001b[0m\u001b[0;34m\u001b[0m\u001b[0;34m\u001b[0m\u001b[0m\n\u001b[0m",
      "\u001b[0;32m~/miniconda3/envs/svilov-python/lib/python3.11/site-packages/pandas/core/generic.py\u001b[0m in \u001b[0;36m?\u001b[0;34m(self, name)\u001b[0m\n\u001b[1;32m   5985\u001b[0m             \u001b[0;32mand\u001b[0m \u001b[0mname\u001b[0m \u001b[0;32mnot\u001b[0m \u001b[0;32min\u001b[0m \u001b[0mself\u001b[0m\u001b[0;34m.\u001b[0m\u001b[0m_accessors\u001b[0m\u001b[0;34m\u001b[0m\u001b[0;34m\u001b[0m\u001b[0m\n\u001b[1;32m   5986\u001b[0m             \u001b[0;32mand\u001b[0m \u001b[0mself\u001b[0m\u001b[0;34m.\u001b[0m\u001b[0m_info_axis\u001b[0m\u001b[0;34m.\u001b[0m\u001b[0m_can_hold_identifiers_and_holds_name\u001b[0m\u001b[0;34m(\u001b[0m\u001b[0mname\u001b[0m\u001b[0;34m)\u001b[0m\u001b[0;34m\u001b[0m\u001b[0;34m\u001b[0m\u001b[0m\n\u001b[1;32m   5987\u001b[0m         ):\n\u001b[1;32m   5988\u001b[0m             \u001b[0;32mreturn\u001b[0m \u001b[0mself\u001b[0m\u001b[0;34m[\u001b[0m\u001b[0mname\u001b[0m\u001b[0;34m]\u001b[0m\u001b[0;34m\u001b[0m\u001b[0;34m\u001b[0m\u001b[0m\n\u001b[0;32m-> 5989\u001b[0;31m         \u001b[0;32mreturn\u001b[0m \u001b[0mobject\u001b[0m\u001b[0;34m.\u001b[0m\u001b[0m__getattribute__\u001b[0m\u001b[0;34m(\u001b[0m\u001b[0mself\u001b[0m\u001b[0;34m,\u001b[0m \u001b[0mname\u001b[0m\u001b[0;34m)\u001b[0m\u001b[0;34m\u001b[0m\u001b[0;34m\u001b[0m\u001b[0m\n\u001b[0m",
      "\u001b[0;31mAttributeError\u001b[0m: 'DataFrame' object has no attribute 'copy_number_variant'"
     ]
    }
   ],
   "source": [
    "flt = ~results_df[[x for x in reasons if x!='copy_number_variant']].sum(axis=1).astype(bool)\n",
    "\n",
    "cnv_df = results_df.loc[flt & results_df.copy_number_variant & results_df.abnormal,['call','l2fc']]"
   ]
  },
  {
   "cell_type": "code",
   "execution_count": null,
   "id": "97a06f18-469a-4010-ae2e-039c21f20c86",
   "metadata": {
    "tags": []
   },
   "outputs": [],
   "source": [
    "inc_df = cnv_df.groupby('call').l2fc.agg(lambda x:sum(x>0)).reset_index()\n",
    "inc_df['GE change'] = 'inc'\n",
    "dec_df = cnv_df.groupby('call').l2fc.agg(lambda x:sum(x<0)).reset_index()\n",
    "dec_df['GE change'] = 'dec'\n",
    "df = pd.concat([inc_df,dec_df])\n",
    "\n",
    "fig, ax = plt.subplots()\n",
    "\n",
    "sns.barplot(x='call', y='l2fc', hue='GE change', data=df,palette=['tab:orange', 'tab:blue']) \n",
    "\n",
    "ax.grid(True)\n",
    "ax.set_axisbelow(True)\n",
    "ax.set_ylabel('counts')\n",
    "ax.set_xlabel('')\n",
    "\n",
    "ax.legend(bbox_to_anchor=(1.35, 1.03), title='GE change')"
   ]
  },
  {
   "cell_type": "markdown",
   "id": "7988a6dd-364a-4b34-a9d2-b4521e7fc2ac",
   "metadata": {},
   "source": [
    "# Average change"
   ]
  },
  {
   "cell_type": "code",
   "execution_count": null,
   "id": "aca60763-0096-49aa-81bc-24ca6d4bc433",
   "metadata": {
    "tags": []
   },
   "outputs": [],
   "source": [
    "reasons = ['promoter_variant', 'splicing_variant', \n",
    "           'frameshift_variant', 'NMD_transcript_variant', 'stop_gained']\n",
    "\n",
    "for reason in reasons:\n",
    "        \n",
    "    flt = ~results_df[[x for x in reasons if x!=reason]].sum(axis=1).astype(bool)\n",
    "    \n",
    "    mean_l2fc_abnormal = results_df.loc[(flt)&(results_df.abnormal)&(results_df[reason])].l2fc.mean()\n",
    "    \n",
    "    print(reason, f'{mean_l2fc_abnormal:.2f}')"
   ]
  },
  {
   "cell_type": "code",
   "execution_count": null,
   "id": "8a4afbf5-a8d4-468e-86ed-1ffe8bf37569",
   "metadata": {},
   "outputs": [],
   "source": []
  }
 ],
 "metadata": {
  "kernelspec": {
   "display_name": "Python [conda env:miniconda3-svilov-python]",
   "language": "python",
   "name": "conda-env-miniconda3-svilov-python-py"
  },
  "language_info": {
   "codemirror_mode": {
    "name": "ipython",
    "version": 3
   },
   "file_extension": ".py",
   "mimetype": "text/x-python",
   "name": "python",
   "nbconvert_exporter": "python",
   "pygments_lexer": "ipython3",
   "version": "3.11.4"
  }
 },
 "nbformat": 4,
 "nbformat_minor": 5
}
