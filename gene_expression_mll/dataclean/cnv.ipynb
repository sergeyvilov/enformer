{
 "cells": [
  {
   "cell_type": "code",
   "execution_count": 57,
   "id": "8a3ed455-0aa9-452a-ad1d-35b77b8a16e5",
   "metadata": {
    "tags": []
   },
   "outputs": [],
   "source": [
    "import pandas as pd\n",
    "import numpy as np"
   ]
  },
  {
   "cell_type": "code",
   "execution_count": 58,
   "id": "3b098a1c-4038-4075-a604-74c3491d5558",
   "metadata": {
    "tags": []
   },
   "outputs": [],
   "source": [
    "cnv_tsv = '/s/project/mll/rawdata/res_from_mll/cnv_calls.txt'\n",
    "\n",
    "gene_coords = '/s/project/mll/drop_2023feb/processed_data/preprocess/v33b/gene_name_mapping_v33b.tsv'"
   ]
  },
  {
   "cell_type": "code",
   "execution_count": 59,
   "id": "c3a18827-46dc-4c41-9537-b303f2404ed4",
   "metadata": {
    "tags": []
   },
   "outputs": [],
   "source": [
    "cnv_df = pd.read_csv(cnv_tsv, sep='\\t',\n",
    "                    usecols=[0,1,2,5,6], names=['chrom','start','end','call','array_id'], skiprows=1)\n",
    "cnv_df = cnv_df[(~cnv_df.chrom.isna())&(cnv_df.call!='0')]\n",
    "cnv_df.sort_values(by=['chrom','start','end'],inplace=True)\n",
    "cnv_df['geneName']=None"
   ]
  },
  {
   "cell_type": "code",
   "execution_count": 60,
   "id": "aad617b3-5226-4076-970a-795a42ce93eb",
   "metadata": {
    "tags": []
   },
   "outputs": [],
   "source": [
    "gene_df = pd.read_csv(gene_coords)\n",
    "gene_df.rename(columns={'seqnames':'chrom','gene_id':'geneName','gene_name':'geneHGNC'},inplace=True)\n",
    "gene_df.geneName = gene_df.geneName.apply(lambda x:x.split('.')[0])\n",
    "gene_df.chrom = gene_df.chrom.str.replace('chr','')\n",
    "gene_df.sort_values(by=['chrom','start','end'],inplace=True)"
   ]
  },
  {
   "cell_type": "code",
   "execution_count": 61,
   "id": "e3e27fad-5362-471c-9286-4d294e85cd41",
   "metadata": {
    "tags": []
   },
   "outputs": [],
   "source": [
    "def getOverlap(a, b):\n",
    "    '''\n",
    "    Returns the amount of overlap between two intervals\n",
    "    '''\n",
    "    #print(a,b)\n",
    "    return max(0, min(a[1], b[1]) - max(a[0], b[0]))"
   ]
  },
  {
   "cell_type": "code",
   "execution_count": 62,
   "id": "c1c5a0d8-40a0-4612-adb7-d9ca8e8259fb",
   "metadata": {
    "tags": []
   },
   "outputs": [
    {
     "name": "stdout",
     "output_type": "stream",
     "text": [
      "1\n",
      "10\n",
      "11\n",
      "12\n",
      "13\n",
      "14\n",
      "15\n",
      "16\n",
      "17\n",
      "18\n",
      "19\n",
      "2\n",
      "20\n",
      "21\n",
      "22\n",
      "3\n",
      "4\n",
      "5\n",
      "6\n",
      "7\n",
      "8\n",
      "9\n",
      "X\n",
      "Y\n"
     ]
    }
   ],
   "source": [
    "#loop over copy number intervals and check if they overlap with genes\n",
    "\n",
    "cnv_df['geneName'] = np.empty((len(cnv_df), 0)).tolist()\n",
    "\n",
    "    \n",
    "for chrom in cnv_df.chrom.unique():\n",
    "    \n",
    "    print(chrom)\n",
    "    \n",
    "    #select given chromosome\n",
    "    cnv_chrom_df = cnv_df[cnv_df.chrom==chrom]\n",
    "    gene_chrom_df = gene_df[gene_df.chrom==chrom] #gene coordinates in given chromosome\n",
    "    \n",
    "    for idx, row in cnv_chrom_df.iterrows():\n",
    "        int_start, int_end = row.start, row.end\n",
    "        for geneName,gene_start,gene_end in gene_chrom_df[['geneName','start','end']].values.tolist():\n",
    "            if getOverlap((int_start, int_end),(gene_start,gene_end))>0:\n",
    "                cnv_df.at[idx,'geneName'].append(geneName)\n",
    "                \n",
    "#    for idx, row in cnv_chrom_df.iterrows():\n",
    "#        int_start, int_end = row.start, row.end\n",
    "#        #interval end should be larger than the gene start\n",
    "#        max_row_idx = np.searchsorted(gene_chrom_df.start, int_end) #gene_df should already be sorted by chromosome and by start\n",
    "#        df = gene_chrom_df.iloc[:max_row_idx].sort_values(by='end')\n",
    "#        #interval start should be smaller than the gene end\n",
    "#        min_row_idx = np.searchsorted(df.end, int_start)\n",
    "#        df = df.iloc[min_row_idx:] #now all intervals remaining in df should overlap\n",
    "#        \n",
    "#        sufficient_overlap = df.apply(lambda x: getOverlap((x.start,x.end),(int_start, int_end)), axis=1)>0\n",
    "#        \n",
    "#        cnv_df.at[idx,'geneName'] = df.loc[sufficient_overlap].geneName.values.tolist() #add the list of genes for given interval"
   ]
  },
  {
   "cell_type": "code",
   "execution_count": 63,
   "id": "54c3c54b-0086-46e6-851f-7837eddacc26",
   "metadata": {
    "tags": []
   },
   "outputs": [],
   "source": [
    "cnv_df = cnv_df.explode('geneName')"
   ]
  },
  {
   "cell_type": "code",
   "execution_count": 64,
   "id": "4fefb9cd-d833-40dc-b24b-2f61ec25cbfe",
   "metadata": {
    "tags": []
   },
   "outputs": [],
   "source": [
    "cnv_df = cnv_df[~cnv_df.geneName.isna()]"
   ]
  },
  {
   "cell_type": "code",
   "execution_count": 66,
   "id": "f7befc0f-7775-4f46-9d1b-cfb082255078",
   "metadata": {
    "tags": []
   },
   "outputs": [],
   "source": [
    "cnv_df.to_csv('/s/project/mll/sergey/MLL_data/processed/cnv_mll_gencode_gene_map_bruteforce.tsv',sep='\\t')"
   ]
  },
  {
   "cell_type": "code",
   "execution_count": 67,
   "id": "eb7dc661-92ff-4b30-86a0-1a7af70b83a4",
   "metadata": {
    "tags": []
   },
   "outputs": [
    {
     "data": {
      "text/plain": [
       "16557965"
      ]
     },
     "execution_count": 67,
     "metadata": {},
     "output_type": "execute_result"
    }
   ],
   "source": [
    "len(cnv_df.drop_duplicates())"
   ]
  },
  {
   "cell_type": "code",
   "execution_count": null,
   "id": "09ee888e-0bc8-4c6a-97ba-3d795a52e34b",
   "metadata": {},
   "outputs": [],
   "source": []
  }
 ],
 "metadata": {
  "kernelspec": {
   "display_name": "Python [conda env:miniconda3-svilov-python]",
   "language": "python",
   "name": "conda-env-miniconda3-svilov-python-py"
  },
  "language_info": {
   "codemirror_mode": {
    "name": "ipython",
    "version": 3
   },
   "file_extension": ".py",
   "mimetype": "text/x-python",
   "name": "python",
   "nbconvert_exporter": "python",
   "pygments_lexer": "ipython3",
   "version": "3.11.4"
  }
 },
 "nbformat": 4,
 "nbformat_minor": 5
}
