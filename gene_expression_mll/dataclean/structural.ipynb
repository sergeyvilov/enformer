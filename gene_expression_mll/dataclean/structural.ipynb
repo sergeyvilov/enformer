{
 "cells": [
  {
   "cell_type": "code",
   "execution_count": 1,
   "id": "f94b2dd3",
   "metadata": {
    "tags": []
   },
   "outputs": [],
   "source": [
    "import pandas as pd\n",
    "import re"
   ]
  },
  {
   "cell_type": "code",
   "execution_count": 2,
   "id": "30b94735",
   "metadata": {
    "tags": []
   },
   "outputs": [
    {
     "name": "stderr",
     "output_type": "stream",
     "text": [
      "/scratch/tmp/l_vilov/ipykernel_886130/810917226.py:1: DtypeWarning: Columns (2) have mixed types. Specify dtype option on import or set low_memory=False.\n",
      "  sv_df = pd.read_csv('/s/project/mll/sergey/MLL_data/vale.svs.filtered.txt', sep='\\t')\n"
     ]
    }
   ],
   "source": [
    "sv_df = pd.read_csv('/s/project/mll/sergey/MLL_data/vale.svs.filtered.txt', sep='\\t')"
   ]
  },
  {
   "cell_type": "code",
   "execution_count": 3,
   "id": "04f1f61c",
   "metadata": {
    "tags": []
   },
   "outputs": [],
   "source": [
    "sv_df = sv_df[~(sv_df.gnomad>5e-4)] #only structural variants with low gnomAD AF\n",
    "\n",
    "sv_df = sv_df[~sv_df.to_gene.isna()|~sv_df.from_gene.isna()] #only structural variants intersecting with genes"
   ]
  },
  {
   "cell_type": "code",
   "execution_count": 4,
   "id": "48db0fe0-800b-4120-b447-7992fc38082a",
   "metadata": {
    "tags": []
   },
   "outputs": [],
   "source": [
    "def make_gene_list(x):\n",
    "    gene_list = str(x.to_gene) + ',' + str(x.from_gene)\n",
    "    gene_list = re.sub('\\([-\\+]\\)','', gene_list)   \n",
    "    gene_list = re.sub(',*nan,*','', gene_list)   \n",
    "    if ',' in gene_list:\n",
    "        gene_list = gene_list.split(',')\n",
    "    return gene_list\n",
    "\n",
    "sv_df['geneHGNC'] = sv_df.apply(make_gene_list, axis=1)"
   ]
  },
  {
   "cell_type": "code",
   "execution_count": 5,
   "id": "fc84f46e-419d-4373-acc3-bedcccd30e7b",
   "metadata": {
    "tags": []
   },
   "outputs": [],
   "source": [
    "sv_df = sv_df[['array_id','svtype','geneHGNC']].explode('geneHGNC')"
   ]
  },
  {
   "cell_type": "code",
   "execution_count": 6,
   "id": "63bc5cd9",
   "metadata": {
    "tags": []
   },
   "outputs": [],
   "source": [
    "matching_genes = pd.read_csv('/s/project/mll/sergey/effect_prediction/promoter_mutations/ensemble_to_HGNC_GRCh38.tsv.gz', sep='\\t', \n",
    "                      header=None, names=['geneName', 'geneHGNC'], usecols=[0,1], skiprows=1)\n",
    "\n",
    "matching_genes = matching_genes[~matching_genes.geneHGNC.isna()]"
   ]
  },
  {
   "cell_type": "code",
   "execution_count": 7,
   "id": "69d6998d-16ff-448c-8312-b98d91c67776",
   "metadata": {
    "tags": []
   },
   "outputs": [],
   "source": [
    "sv_df = sv_df.merge(matching_genes, how='left')"
   ]
  },
  {
   "cell_type": "code",
   "execution_count": 8,
   "id": "5fb24c7d",
   "metadata": {
    "tags": []
   },
   "outputs": [
    {
     "data": {
      "text/html": [
       "<div>\n",
       "<style scoped>\n",
       "    .dataframe tbody tr th:only-of-type {\n",
       "        vertical-align: middle;\n",
       "    }\n",
       "\n",
       "    .dataframe tbody tr th {\n",
       "        vertical-align: top;\n",
       "    }\n",
       "\n",
       "    .dataframe thead th {\n",
       "        text-align: right;\n",
       "    }\n",
       "</style>\n",
       "<table border=\"1\" class=\"dataframe\">\n",
       "  <thead>\n",
       "    <tr style=\"text-align: right;\">\n",
       "      <th></th>\n",
       "      <th>array_id</th>\n",
       "      <th>svtype</th>\n",
       "      <th>geneHGNC</th>\n",
       "      <th>geneName</th>\n",
       "    </tr>\n",
       "  </thead>\n",
       "  <tbody>\n",
       "    <tr>\n",
       "      <th>0</th>\n",
       "      <td>MLL_11389</td>\n",
       "      <td>DEL</td>\n",
       "      <td>TNFRSF8</td>\n",
       "      <td>ENSG00000120949</td>\n",
       "    </tr>\n",
       "    <tr>\n",
       "      <th>1</th>\n",
       "      <td>MLL_11389</td>\n",
       "      <td>DEL</td>\n",
       "      <td>TNFRSF8</td>\n",
       "      <td>ENSG00000120949</td>\n",
       "    </tr>\n",
       "    <tr>\n",
       "      <th>2</th>\n",
       "      <td>MLL_11389</td>\n",
       "      <td>INV</td>\n",
       "      <td>PTGFR</td>\n",
       "      <td>ENSG00000122420</td>\n",
       "    </tr>\n",
       "    <tr>\n",
       "      <th>3</th>\n",
       "      <td>MLL_11389</td>\n",
       "      <td>INV</td>\n",
       "      <td>PTGFR</td>\n",
       "      <td>ENSG00000122420</td>\n",
       "    </tr>\n",
       "    <tr>\n",
       "      <th>4</th>\n",
       "      <td>MLL_11389</td>\n",
       "      <td>BND</td>\n",
       "      <td>MECOM</td>\n",
       "      <td>ENSG00000085276</td>\n",
       "    </tr>\n",
       "    <tr>\n",
       "      <th>...</th>\n",
       "      <td>...</td>\n",
       "      <td>...</td>\n",
       "      <td>...</td>\n",
       "      <td>...</td>\n",
       "    </tr>\n",
       "    <tr>\n",
       "      <th>3202866</th>\n",
       "      <td>MLL_11293</td>\n",
       "      <td>INV</td>\n",
       "      <td>VCX3B</td>\n",
       "      <td>ENSG00000205642</td>\n",
       "    </tr>\n",
       "    <tr>\n",
       "      <th>3202867</th>\n",
       "      <td>MLL_11293</td>\n",
       "      <td>BND</td>\n",
       "      <td>IL1RAPL1</td>\n",
       "      <td>ENSG00000169306</td>\n",
       "    </tr>\n",
       "    <tr>\n",
       "      <th>3202868</th>\n",
       "      <td>MLL_11293</td>\n",
       "      <td>DEL</td>\n",
       "      <td>TM4SF2</td>\n",
       "      <td>NaN</td>\n",
       "    </tr>\n",
       "    <tr>\n",
       "      <th>3202869</th>\n",
       "      <td>MLL_11293</td>\n",
       "      <td>DEL</td>\n",
       "      <td>TM4SF2</td>\n",
       "      <td>NaN</td>\n",
       "    </tr>\n",
       "    <tr>\n",
       "      <th>3202870</th>\n",
       "      <td>MLL_11293</td>\n",
       "      <td>INV</td>\n",
       "      <td>SLC6A14</td>\n",
       "      <td>ENSG00000268104</td>\n",
       "    </tr>\n",
       "  </tbody>\n",
       "</table>\n",
       "<p>3202871 rows × 4 columns</p>\n",
       "</div>"
      ],
      "text/plain": [
       "          array_id svtype  geneHGNC         geneName\n",
       "0        MLL_11389    DEL   TNFRSF8  ENSG00000120949\n",
       "1        MLL_11389    DEL   TNFRSF8  ENSG00000120949\n",
       "2        MLL_11389    INV     PTGFR  ENSG00000122420\n",
       "3        MLL_11389    INV     PTGFR  ENSG00000122420\n",
       "4        MLL_11389    BND     MECOM  ENSG00000085276\n",
       "...            ...    ...       ...              ...\n",
       "3202866  MLL_11293    INV     VCX3B  ENSG00000205642\n",
       "3202867  MLL_11293    BND  IL1RAPL1  ENSG00000169306\n",
       "3202868  MLL_11293    DEL    TM4SF2              NaN\n",
       "3202869  MLL_11293    DEL    TM4SF2              NaN\n",
       "3202870  MLL_11293    INV   SLC6A14  ENSG00000268104\n",
       "\n",
       "[3202871 rows x 4 columns]"
      ]
     },
     "execution_count": 8,
     "metadata": {},
     "output_type": "execute_result"
    }
   ],
   "source": [
    "sv_df"
   ]
  },
  {
   "cell_type": "code",
   "execution_count": 9,
   "id": "57e6a7cc-5d3b-4529-a8fe-853613add967",
   "metadata": {
    "tags": []
   },
   "outputs": [],
   "source": [
    "sv_df.to_csv('/s/project/mll/sergey/MLL_data/processed/vale.svs.filtered.tsv.gz', sep='\\t', index=None)"
   ]
  },
  {
   "cell_type": "code",
   "execution_count": null,
   "id": "9bc037f1-f440-4490-b494-6a2bc9264fa8",
   "metadata": {},
   "outputs": [],
   "source": []
  }
 ],
 "metadata": {
  "kernelspec": {
   "display_name": "Python [conda env:3-2018.12-5utrclone]",
   "language": "python",
   "name": "conda-env-3-2018.12-5utrclone-py"
  },
  "language_info": {
   "codemirror_mode": {
    "name": "ipython",
    "version": 3
   },
   "file_extension": ".py",
   "mimetype": "text/x-python",
   "name": "python",
   "nbconvert_exporter": "python",
   "pygments_lexer": "ipython3",
   "version": "3.6.7"
  }
 },
 "nbformat": 4,
 "nbformat_minor": 5
}
