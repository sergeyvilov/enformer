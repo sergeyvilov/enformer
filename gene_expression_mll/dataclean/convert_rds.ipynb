{
 "cells": [
  {
   "cell_type": "code",
   "execution_count": 1,
   "id": "7a98b96d",
   "metadata": {
    "tags": []
   },
   "outputs": [],
   "source": [
    "import pyreadr\n",
    "\n",
    "data_dir = '/s/project/mll/drop_2023feb/processed_results/aberrant_expression/v33b/outrider/leukemia_14group/'\n",
    "output_dir = '/s/project/mll/sergey/effect_prediction/outrider/input_data/outrider/'\n",
    "\n",
    "result = pyreadr.read_r(data_dir + 'OUTRIDER_results_all.Rds')"
   ]
  },
  {
   "cell_type": "code",
   "execution_count": 2,
   "id": "2960b1f9-161f-47a9-8034-490318a76f0d",
   "metadata": {
    "tags": []
   },
   "outputs": [
    {
     "data": {
      "text/plain": [
       "Index(['geneID', 'sampleID', 'pValue', 'padjust', 'zScore', 'fc', 'log2fc',\n",
       "       'rawcounts', 'expected_counts', 'normcounts', 'meanCorrected', 'theta',\n",
       "       'sizefactor', 'pvalDistribution', 'aberrant', 'AberrantBySample',\n",
       "       'AberrantByFeature', 'padj_rank', 'foldChange'],\n",
       "      dtype='object')"
      ]
     },
     "execution_count": 2,
     "metadata": {},
     "output_type": "execute_result"
    }
   ],
   "source": [
    "result[None].geneID"
   ]
  },
  {
   "cell_type": "code",
   "execution_count": 5,
   "id": "94d368d9",
   "metadata": {
    "tags": []
   },
   "outputs": [],
   "source": [
    "df = result[None][['geneID','sampleID','pValue','padjust','log2fc']]"
   ]
  },
  {
   "cell_type": "code",
   "execution_count": 6,
   "id": "025d0fd3",
   "metadata": {
    "tags": []
   },
   "outputs": [
    {
     "name": "stderr",
     "output_type": "stream",
     "text": [
      "/scratch/tmp/l_vilov/ipykernel_1849409/1787564263.py:1: SettingWithCopyWarning: \n",
      "A value is trying to be set on a copy of a slice from a DataFrame.\n",
      "Try using .loc[row_indexer,col_indexer] = value instead\n",
      "\n",
      "See the caveats in the documentation: https://pandas.pydata.org/pandas-docs/stable/user_guide/indexing.html#returning-a-view-versus-a-copy\n",
      "  df['geneName'] = df.geneID.apply(lambda x:x.split('.')[0])\n"
     ]
    }
   ],
   "source": [
    "df['geneName'] = df.geneID.apply(lambda x:x.split('.')[0])"
   ]
  },
  {
   "cell_type": "code",
   "execution_count": 10,
   "id": "8eb347d9-37ee-4451-80aa-facabc1a7e63",
   "metadata": {
    "tags": []
   },
   "outputs": [
    {
     "name": "stderr",
     "output_type": "stream",
     "text": [
      "/scratch/tmp/l_vilov/ipykernel_1849409/3406326052.py:1: SettingWithCopyWarning: \n",
      "A value is trying to be set on a copy of a slice from a DataFrame\n",
      "\n",
      "See the caveats in the documentation: https://pandas.pydata.org/pandas-docs/stable/user_guide/indexing.html#returning-a-view-versus-a-copy\n",
      "  df.rename(columns={'log2fc':'l2fc'}, inplace=True)\n"
     ]
    }
   ],
   "source": [
    "df.rename(columns={'log2fc':'l2fc'}, inplace=True)"
   ]
  },
  {
   "cell_type": "code",
   "execution_count": 13,
   "id": "68745baf",
   "metadata": {
    "tags": []
   },
   "outputs": [],
   "source": [
    "df[['geneName','sampleID','pValue','padjust','l2fc']].to_csv(output_dir + 'outrider_all_v33b.csv.gz',index=None)"
   ]
  },
  {
   "cell_type": "code",
   "execution_count": 15,
   "id": "bd689f3a-583a-45d9-b5ab-05b22fe6690b",
   "metadata": {
    "tags": []
   },
   "outputs": [
    {
     "data": {
      "text/plain": [
       "3760"
      ]
     },
     "execution_count": 15,
     "metadata": {},
     "output_type": "execute_result"
    }
   ],
   "source": [
    "df.sampleID.nunique()"
   ]
  },
  {
   "cell_type": "code",
   "execution_count": null,
   "id": "5787912f-c843-45fb-91fa-1bc8b505a42e",
   "metadata": {},
   "outputs": [],
   "source": []
  }
 ],
 "metadata": {
  "kernelspec": {
   "display_name": "Python [conda env:miniconda3-svilov-python]",
   "language": "python",
   "name": "conda-env-miniconda3-svilov-python-py"
  },
  "language_info": {
   "codemirror_mode": {
    "name": "ipython",
    "version": 3
   },
   "file_extension": ".py",
   "mimetype": "text/x-python",
   "name": "python",
   "nbconvert_exporter": "python",
   "pygments_lexer": "ipython3",
   "version": "3.11.4"
  }
 },
 "nbformat": 4,
 "nbformat_minor": 5
}
