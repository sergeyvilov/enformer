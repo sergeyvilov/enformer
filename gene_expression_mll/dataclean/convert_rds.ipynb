{
 "cells": [
  {
   "cell_type": "code",
   "execution_count": 1,
   "id": "7a98b96d",
   "metadata": {
    "tags": []
   },
   "outputs": [],
   "source": [
    "import pyreadr\n",
    "\n",
    "data_dir = '/s/project/mll/sergey/effect_prediction/outrider/input_data/activation/'\n",
    "\n",
    "result = pyreadr.read_r(data_dir + 'res_filter_out_all.Rds')"
   ]
  },
  {
   "cell_type": "code",
   "execution_count": 3,
   "id": "94d368d9",
   "metadata": {
    "tags": []
   },
   "outputs": [],
   "source": [
    "df = result[None][['geneID','sampleID','pValue','padjust','l2fc']]"
   ]
  },
  {
   "cell_type": "code",
   "execution_count": 4,
   "id": "025d0fd3",
   "metadata": {
    "tags": []
   },
   "outputs": [
    {
     "name": "stderr",
     "output_type": "stream",
     "text": [
      "/scratch/tmp/l_vilov/ipykernel_1197138/1787564263.py:1: SettingWithCopyWarning: \n",
      "A value is trying to be set on a copy of a slice from a DataFrame.\n",
      "Try using .loc[row_indexer,col_indexer] = value instead\n",
      "\n",
      "See the caveats in the documentation: https://pandas.pydata.org/pandas-docs/stable/user_guide/indexing.html#returning-a-view-versus-a-copy\n",
      "  df['geneName'] = df.geneID.apply(lambda x:x.split('.')[0])\n"
     ]
    }
   ],
   "source": [
    "df['geneName'] = df.geneID.apply(lambda x:x.split('.')[0])"
   ]
  },
  {
   "cell_type": "code",
   "execution_count": 6,
   "id": "68745baf",
   "metadata": {
    "tags": []
   },
   "outputs": [],
   "source": [
    "df[['geneName','sampleID','pValue','padjust','l2fc']].to_csv(data_dir + 'res_filter_out_all.csv.gz',index=None)"
   ]
  }
 ],
 "metadata": {
  "kernelspec": {
   "display_name": "Python [conda env:miniconda3-svilov-spade]",
   "language": "python",
   "name": "conda-env-miniconda3-svilov-spade-py"
  },
  "language_info": {
   "codemirror_mode": {
    "name": "ipython",
    "version": 3
   },
   "file_extension": ".py",
   "mimetype": "text/x-python",
   "name": "python",
   "nbconvert_exporter": "python",
   "pygments_lexer": "ipython3",
   "version": "3.10.9"
  }
 },
 "nbformat": 4,
 "nbformat_minor": 5
}
