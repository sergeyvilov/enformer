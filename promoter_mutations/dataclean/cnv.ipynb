{
 "cells": [
  {
   "cell_type": "code",
   "execution_count": 1,
   "id": "8a3ed455-0aa9-452a-ad1d-35b77b8a16e5",
   "metadata": {
    "tags": []
   },
   "outputs": [],
   "source": [
    "import pandas as pd\n",
    "import numpy as np"
   ]
  },
  {
   "cell_type": "code",
   "execution_count": 2,
   "id": "3b098a1c-4038-4075-a604-74c3491d5558",
   "metadata": {
    "tags": []
   },
   "outputs": [],
   "source": [
    "cnv_tsv = '/s/project/mll/rawdata/res_from_mll/cnv_calls.txt'\n",
    "\n",
    "gene_coords = '/s/project/mll/sergey/effect_prediction/promoter_mutations/genes_GRCh37.tsv.gz' #biomart, HGNC\n",
    "\n",
    "#gene_coords = '/s/project/mll/sergey/effect_prediction/promoter_mutations/genes_GRCh37/genes_GRCh37.bed'"
   ]
  },
  {
   "cell_type": "code",
   "execution_count": 3,
   "id": "c3a18827-46dc-4c41-9537-b303f2404ed4",
   "metadata": {
    "tags": []
   },
   "outputs": [],
   "source": [
    "cnv_df = pd.read_csv(cnv_tsv, sep='\\t',\n",
    "                    usecols=[0,1,2,5,6], names=['chrom','start','end','call','array_id'], skiprows=1)"
   ]
  },
  {
   "cell_type": "code",
   "execution_count": 4,
   "id": "f5106001-c64c-4d63-bb4f-99bcc77ad57d",
   "metadata": {
    "tags": []
   },
   "outputs": [],
   "source": [
    "cnv_df = cnv_df[~cnv_df.chrom.isna()]"
   ]
  },
  {
   "cell_type": "code",
   "execution_count": 5,
   "id": "1fff1f50-1024-475d-b763-ea17120d2ab0",
   "metadata": {
    "tags": []
   },
   "outputs": [],
   "source": [
    "#gene_df = pd.read_csv(gene_coords, sep='\\t', comment='#',\n",
    "#                      names=['chrom','start','end','geneName'])"
   ]
  },
  {
   "cell_type": "code",
   "execution_count": 6,
   "id": "aad617b3-5226-4076-970a-795a42ce93eb",
   "metadata": {
    "tags": []
   },
   "outputs": [],
   "source": [
    "gene_df = pd.read_csv(gene_coords, sep='\\t', comment='#',usecols=[0,2,3,8],\n",
    "                      names=['chrom','start','end','geneHGNC'])\n",
    "\n",
    "tx_start = gene_df.groupby(['geneHGNC','chrom']).start.min()\n",
    "tx_end = gene_df.groupby(['geneHGNC','chrom']).end.max()\n",
    "\n",
    "gene_df = pd.concat([tx_start,tx_end],axis=1).reset_index()\n",
    "gene_df.chrom = gene_df.chrom.apply(lambda x: x.replace('chr',''))"
   ]
  },
  {
   "cell_type": "code",
   "execution_count": 7,
   "id": "db45d601-7611-40f8-8aab-e9fc6f6c8441",
   "metadata": {
    "tags": []
   },
   "outputs": [],
   "source": [
    "gene_df.sort_values(by = ['chrom','start'], inplace=True)"
   ]
  },
  {
   "cell_type": "code",
   "execution_count": 8,
   "id": "fc6048b6-f59b-43f2-98cd-8c3801698ad6",
   "metadata": {
    "tags": []
   },
   "outputs": [],
   "source": [
    "cnv_df = cnv_df[cnv_df.call!='0'] "
   ]
  },
  {
   "cell_type": "code",
   "execution_count": 9,
   "id": "09155562-410e-4dab-9361-11ed3dd1807c",
   "metadata": {
    "tags": []
   },
   "outputs": [],
   "source": [
    "intervals_df = cnv_df[['chrom','start','end']].drop_duplicates()\n",
    "\n",
    "intervals_df['geneHGNC'] = None\n",
    "intervals_df['geneHGNC'] = intervals_df['geneHGNC'].astype(object)"
   ]
  },
  {
   "cell_type": "code",
   "execution_count": 10,
   "id": "16e540cf-dce6-4b97-9ee3-a4fe43c32b6b",
   "metadata": {
    "tags": []
   },
   "outputs": [],
   "source": [
    "def getOverlap(a, b):\n",
    "    '''\n",
    "    Returns the amount of overlap between two intervals\n",
    "    '''\n",
    "    #print(a,b)\n",
    "    return max(0, min(a[1], b[1]) - max(a[0], b[0]))"
   ]
  },
  {
   "cell_type": "code",
   "execution_count": 11,
   "id": "edead7aa-3704-4ccc-b2c6-1fb2fc48a4dd",
   "metadata": {
    "tags": []
   },
   "outputs": [],
   "source": [
    "MIN_OVERLAP = 1000 #minimum overlap between CNV and gene to accept CNV"
   ]
  },
  {
   "cell_type": "code",
   "execution_count": 12,
   "id": "c1c5a0d8-40a0-4612-adb7-d9ca8e8259fb",
   "metadata": {
    "tags": []
   },
   "outputs": [
    {
     "name": "stdout",
     "output_type": "stream",
     "text": [
      "1\n",
      "2\n",
      "3\n",
      "4\n",
      "5\n",
      "6\n",
      "7\n",
      "8\n",
      "9\n",
      "11\n",
      "12\n",
      "13\n",
      "14\n",
      "15\n",
      "16\n",
      "17\n",
      "18\n",
      "19\n",
      "20\n",
      "21\n",
      "22\n",
      "X\n",
      "10\n",
      "Y\n"
     ]
    }
   ],
   "source": [
    "#loop over copy number intervals and check if they overlap with genes\n",
    "\n",
    "for chrom in cnv_df.chrom.unique():\n",
    "    \n",
    "    print(chrom)\n",
    "    \n",
    "    #select given chromosome\n",
    "    intervals_chrom_df = intervals_df[intervals_df.chrom==chrom]\n",
    "    gene_chrom_df = gene_df[gene_df.chrom==chrom] #gene coordinates in given chromosome\n",
    "    \n",
    "    for idx, row in intervals_chrom_df.iterrows():\n",
    "        int_start, int_end = row.start, row.end\n",
    "        #interval end should be larger than the gene start\n",
    "        max_row_idx = np.searchsorted(gene_chrom_df.start, int_end) #gene_df should already be sorted by chromosome and by start\n",
    "        df = gene_chrom_df.iloc[:max_row_idx].sort_values(by='end')\n",
    "        #interval start should be smaller than the gene end\n",
    "        min_row_idx = np.searchsorted(df.end, int_start)\n",
    "        df = df.iloc[min_row_idx:] #now all intervals remaining in df should overlap\n",
    "        \n",
    "        sufficient_overlap = df.apply(lambda x: getOverlap((x.start,x.end),(int_start, int_end)), axis=1)>MIN_OVERLAP\n",
    "        \n",
    "        intervals_df.at[idx,'geneHGNC'] = df.loc[sufficient_overlap].geneHGNC.values.tolist() #add the list of genes for given interval\n",
    "\n",
    "        #if len(df):\n",
    "        #    assert isOverlap((df.iloc[0].start,df.iloc[0].end),(int_start, int_end))\n",
    "        #    assert isOverlap((df.iloc[-1].start,df.iloc[-1].end),(int_start, int_end))       "
   ]
  },
  {
   "cell_type": "code",
   "execution_count": 13,
   "id": "74a1d89d-d3a5-4d52-87c7-26f5198cf278",
   "metadata": {
    "tags": []
   },
   "outputs": [],
   "source": [
    "intervals_df.geneHGNC = intervals_df.geneHGNC.apply(lambda x:x[0] if type(x)==list and len(x)==1 else x) #list to string if only 1 item"
   ]
  },
  {
   "cell_type": "code",
   "execution_count": 14,
   "id": "85429de9-39ca-4bcd-b3d0-5a1804825891",
   "metadata": {
    "tags": []
   },
   "outputs": [],
   "source": [
    "cnv_df = cnv_df.merge(intervals_df, how='left')"
   ]
  },
  {
   "cell_type": "code",
   "execution_count": 15,
   "id": "54c3c54b-0086-46e6-851f-7837eddacc26",
   "metadata": {
    "tags": []
   },
   "outputs": [],
   "source": [
    "cnv_df = cnv_df.explode('geneHGNC')"
   ]
  },
  {
   "cell_type": "code",
   "execution_count": 16,
   "id": "01b19c32-8349-4ba2-9d5c-c46a167a3660",
   "metadata": {
    "tags": []
   },
   "outputs": [],
   "source": [
    "cnv_df = cnv_df[~cnv_df.geneHGNC.isna()]"
   ]
  },
  {
   "cell_type": "code",
   "execution_count": 17,
   "id": "cfa44710-b5d6-432f-a194-242543e4ac32",
   "metadata": {
    "tags": []
   },
   "outputs": [],
   "source": [
    "matching_genes = pd.read_csv('/s/project/mll/sergey/effect_prediction/promoter_mutations/ensemble_to_HGNC_GRCh38.tsv.gz', sep='\\t', \n",
    "                      header=None, names=['geneName', 'geneHGNC'], usecols=[0,1], skiprows=1)\n",
    "\n",
    "matching_genes = matching_genes[~matching_genes.geneHGNC.isna()]"
   ]
  },
  {
   "cell_type": "code",
   "execution_count": 22,
   "id": "b9df58d5-3bac-41c5-ab85-0f15f7984818",
   "metadata": {
    "tags": []
   },
   "outputs": [],
   "source": [
    "cnv_df = pd.merge(cnv_df,matching_genes, how='left')"
   ]
  },
  {
   "cell_type": "code",
   "execution_count": 23,
   "id": "41ac1efc-9a8f-491a-baa8-c7b50ec5ac7a",
   "metadata": {
    "tags": []
   },
   "outputs": [
    {
     "data": {
      "text/html": [
       "<div>\n",
       "<style scoped>\n",
       "    .dataframe tbody tr th:only-of-type {\n",
       "        vertical-align: middle;\n",
       "    }\n",
       "\n",
       "    .dataframe tbody tr th {\n",
       "        vertical-align: top;\n",
       "    }\n",
       "\n",
       "    .dataframe thead th {\n",
       "        text-align: right;\n",
       "    }\n",
       "</style>\n",
       "<table border=\"1\" class=\"dataframe\">\n",
       "  <thead>\n",
       "    <tr style=\"text-align: right;\">\n",
       "      <th></th>\n",
       "      <th>chrom</th>\n",
       "      <th>start</th>\n",
       "      <th>end</th>\n",
       "      <th>call</th>\n",
       "      <th>array_id</th>\n",
       "      <th>geneHGNC</th>\n",
       "      <th>geneName</th>\n",
       "    </tr>\n",
       "  </thead>\n",
       "  <tbody>\n",
       "    <tr>\n",
       "      <th>0</th>\n",
       "      <td>1</td>\n",
       "      <td>25602001</td>\n",
       "      <td>25664000</td>\n",
       "      <td>-</td>\n",
       "      <td>MLL_16348</td>\n",
       "      <td>RHD</td>\n",
       "      <td>ENSG00000187010</td>\n",
       "    </tr>\n",
       "    <tr>\n",
       "      <th>1</th>\n",
       "      <td>1</td>\n",
       "      <td>25602001</td>\n",
       "      <td>25664000</td>\n",
       "      <td>-</td>\n",
       "      <td>MLL_16348</td>\n",
       "      <td>RSRP1</td>\n",
       "      <td>ENSG00000117616</td>\n",
       "    </tr>\n",
       "    <tr>\n",
       "      <th>2</th>\n",
       "      <td>1</td>\n",
       "      <td>53593001</td>\n",
       "      <td>53596000</td>\n",
       "      <td>-</td>\n",
       "      <td>MLL_16348</td>\n",
       "      <td>SLC1A7</td>\n",
       "      <td>ENSG00000162383</td>\n",
       "    </tr>\n",
       "    <tr>\n",
       "      <th>3</th>\n",
       "      <td>1</td>\n",
       "      <td>142540001</td>\n",
       "      <td>142838000</td>\n",
       "      <td>+</td>\n",
       "      <td>MLL_16348</td>\n",
       "      <td>ANKRD20A12P</td>\n",
       "      <td>NaN</td>\n",
       "    </tr>\n",
       "    <tr>\n",
       "      <th>4</th>\n",
       "      <td>1</td>\n",
       "      <td>149037001</td>\n",
       "      <td>149433000</td>\n",
       "      <td>-</td>\n",
       "      <td>MLL_16348</td>\n",
       "      <td>LOC105369140</td>\n",
       "      <td>NaN</td>\n",
       "    </tr>\n",
       "    <tr>\n",
       "      <th>...</th>\n",
       "      <td>...</td>\n",
       "      <td>...</td>\n",
       "      <td>...</td>\n",
       "      <td>...</td>\n",
       "      <td>...</td>\n",
       "      <td>...</td>\n",
       "      <td>...</td>\n",
       "    </tr>\n",
       "    <tr>\n",
       "      <th>7136769</th>\n",
       "      <td>22</td>\n",
       "      <td>16051001</td>\n",
       "      <td>16864000</td>\n",
       "      <td>+</td>\n",
       "      <td>MLL_62407</td>\n",
       "      <td>DUXAP8</td>\n",
       "      <td>ENSG00000206195</td>\n",
       "    </tr>\n",
       "    <tr>\n",
       "      <th>7136770</th>\n",
       "      <td>22</td>\n",
       "      <td>16051001</td>\n",
       "      <td>16864000</td>\n",
       "      <td>+</td>\n",
       "      <td>MLL_62407</td>\n",
       "      <td>PSLNR</td>\n",
       "      <td>ENSG00000225255</td>\n",
       "    </tr>\n",
       "    <tr>\n",
       "      <th>7136771</th>\n",
       "      <td>22</td>\n",
       "      <td>16051001</td>\n",
       "      <td>16864000</td>\n",
       "      <td>+</td>\n",
       "      <td>MLL_62407</td>\n",
       "      <td>POTEH-AS1</td>\n",
       "      <td>ENSG00000236666</td>\n",
       "    </tr>\n",
       "    <tr>\n",
       "      <th>7136772</th>\n",
       "      <td>22</td>\n",
       "      <td>16051001</td>\n",
       "      <td>16864000</td>\n",
       "      <td>+</td>\n",
       "      <td>MLL_62407</td>\n",
       "      <td>POTEH</td>\n",
       "      <td>ENSG00000198062</td>\n",
       "    </tr>\n",
       "    <tr>\n",
       "      <th>7136773</th>\n",
       "      <td>22</td>\n",
       "      <td>23166001</td>\n",
       "      <td>23242000</td>\n",
       "      <td>-</td>\n",
       "      <td>MLL_62407</td>\n",
       "      <td>IGLL5</td>\n",
       "      <td>ENSG00000254709</td>\n",
       "    </tr>\n",
       "  </tbody>\n",
       "</table>\n",
       "<p>7136774 rows × 7 columns</p>\n",
       "</div>"
      ],
      "text/plain": [
       "        chrom      start        end call   array_id      geneHGNC  \\\n",
       "0           1   25602001   25664000    -  MLL_16348           RHD   \n",
       "1           1   25602001   25664000    -  MLL_16348         RSRP1   \n",
       "2           1   53593001   53596000    -  MLL_16348        SLC1A7   \n",
       "3           1  142540001  142838000    +  MLL_16348   ANKRD20A12P   \n",
       "4           1  149037001  149433000    -  MLL_16348  LOC105369140   \n",
       "...       ...        ...        ...  ...        ...           ...   \n",
       "7136769    22   16051001   16864000    +  MLL_62407        DUXAP8   \n",
       "7136770    22   16051001   16864000    +  MLL_62407         PSLNR   \n",
       "7136771    22   16051001   16864000    +  MLL_62407     POTEH-AS1   \n",
       "7136772    22   16051001   16864000    +  MLL_62407         POTEH   \n",
       "7136773    22   23166001   23242000    -  MLL_62407         IGLL5   \n",
       "\n",
       "                geneName  \n",
       "0        ENSG00000187010  \n",
       "1        ENSG00000117616  \n",
       "2        ENSG00000162383  \n",
       "3                    NaN  \n",
       "4                    NaN  \n",
       "...                  ...  \n",
       "7136769  ENSG00000206195  \n",
       "7136770  ENSG00000225255  \n",
       "7136771  ENSG00000236666  \n",
       "7136772  ENSG00000198062  \n",
       "7136773  ENSG00000254709  \n",
       "\n",
       "[7136774 rows x 7 columns]"
      ]
     },
     "execution_count": 23,
     "metadata": {},
     "output_type": "execute_result"
    }
   ],
   "source": [
    "cnv_df"
   ]
  },
  {
   "cell_type": "code",
   "execution_count": 31,
   "id": "50e17f9e-cbb3-45a7-bed0-3416b664277a",
   "metadata": {
    "tags": []
   },
   "outputs": [],
   "source": [
    "#take a subsample to check overlaps\n",
    "\n",
    "short_cnv = cnv_df[['chrom','start','end','geneHGNC']].drop_duplicates().sample(n=10000)"
   ]
  },
  {
   "cell_type": "code",
   "execution_count": 32,
   "id": "b4d996bf-309b-4461-87bc-38ac122e9423",
   "metadata": {
    "tags": []
   },
   "outputs": [],
   "source": [
    "df = gene_df.set_index(['geneHGNC','chrom'])"
   ]
  },
  {
   "cell_type": "code",
   "execution_count": 34,
   "id": "7ec4bcd4-3e55-4a0d-8c6d-e45aa0ad7c40",
   "metadata": {
    "tags": []
   },
   "outputs": [],
   "source": [
    "#check overlaps\n",
    "\n",
    "overlaps=short_cnv.groupby('geneHGNC').apply(lambda x: \n",
    "                                 x.apply(lambda y: getOverlap((y.start,y.end),\n",
    "                                                             df.loc[(x.name,y.chrom)].values.tolist())>MIN_OVERLAP,axis=1))\n"
   ]
  },
  {
   "cell_type": "code",
   "execution_count": 35,
   "id": "8375aa30-ddb3-4cc1-a858-c958389b5ec1",
   "metadata": {
    "tags": []
   },
   "outputs": [
    {
     "data": {
      "text/plain": [
       "1.0"
      ]
     },
     "execution_count": 35,
     "metadata": {},
     "output_type": "execute_result"
    }
   ],
   "source": [
    "overlaps.mean()"
   ]
  },
  {
   "cell_type": "code",
   "execution_count": 36,
   "id": "97868523-6896-4914-9690-e5ef568e86bb",
   "metadata": {
    "tags": []
   },
   "outputs": [],
   "source": [
    "cnv_df.to_csv('/s/project/mll/sergey/MLL_data/processed/cnv_mll.tsv', sep='\\t', index=None)"
   ]
  },
  {
   "cell_type": "code",
   "execution_count": null,
   "id": "879d5a2a-5210-4e71-b270-9cf33f20a321",
   "metadata": {},
   "outputs": [],
   "source": []
  }
 ],
 "metadata": {
  "kernelspec": {
   "display_name": "Python [conda env:miniconda3-svilov-spade]",
   "language": "python",
   "name": "conda-env-miniconda3-svilov-spade-py"
  },
  "language_info": {
   "codemirror_mode": {
    "name": "ipython",
    "version": 3
   },
   "file_extension": ".py",
   "mimetype": "text/x-python",
   "name": "python",
   "nbconvert_exporter": "python",
   "pygments_lexer": "ipython3",
   "version": "3.10.9"
  }
 },
 "nbformat": 4,
 "nbformat_minor": 5
}
