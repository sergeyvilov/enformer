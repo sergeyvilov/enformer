{
 "cells": [
  {
   "cell_type": "code",
   "execution_count": 23,
   "id": "f8680af5-316b-4ab6-83ba-4422102325fc",
   "metadata": {
    "tags": []
   },
   "outputs": [],
   "source": [
    "import pandas as pd\n",
    "import scipy.stats"
   ]
  },
  {
   "cell_type": "code",
   "execution_count": 2,
   "id": "f48ca67d-0ce1-4083-91aa-05a6af577272",
   "metadata": {
    "tags": []
   },
   "outputs": [],
   "source": [
    "promoter_suffix = '2000_symm'"
   ]
  },
  {
   "cell_type": "code",
   "execution_count": 3,
   "id": "aad9d555-85b3-42e8-935e-c681a38f8428",
   "metadata": {},
   "outputs": [],
   "source": [
    "results_csv = '/s/project/mll/sergey/effect_prediction/outrider/input_data/activation/res_filter_out_all.csv.gz' "
   ]
  },
  {
   "cell_type": "code",
   "execution_count": 4,
   "id": "535b0b05-3ca3-4c0e-9cd8-35d2fa4ef1b8",
   "metadata": {
    "tags": []
   },
   "outputs": [],
   "source": [
    "#results_csv = '/s/project/mll/sergey/effect_prediction/outrider/input_data/outrider/outrider_all.csv.gz' "
   ]
  },
  {
   "cell_type": "code",
   "execution_count": 5,
   "id": "04a11453-000c-4a17-9bf9-d604148d895f",
   "metadata": {
    "tags": []
   },
   "outputs": [],
   "source": [
    "promoter_mutations = f'/s/project/mll/sergey/effect_prediction/promoter_mutations/{promoter_suffix}/mutations.tsv'\n",
    "\n",
    "vcf_matching = '/s/project/mll/sergey/effect_prediction/promoter_mutations/analysed_samples/vcf_matching.tsv'\n",
    "\n",
    "splicing_tsv = '/s/project/mll/sergey/MLL_data/processed/significant_splicing.tsv'\n",
    "\n",
    "structural_tsv = '/s/project/mll/sergey/MLL_data/processed/vale.svs.filtered.tsv.gz'\n",
    "\n",
    "copy_number_tsv = '/s/project/mll/sergey/MLL_data/processed/cnv_mll.tsv'\n",
    "\n",
    "aml_variants_tsv='/s/project/mll/sergey/effect_prediction/outrider/input_data/20221207_paper_AML_variants.txt'"
   ]
  },
  {
   "cell_type": "code",
   "execution_count": 6,
   "id": "3e1ea402-31a6-462d-9c60-c55f502d4f00",
   "metadata": {
    "tags": []
   },
   "outputs": [],
   "source": [
    "results_df = pd.read_csv(results_csv, usecols=[0,1,3]) #activation results converted from Rds"
   ]
  },
  {
   "cell_type": "code",
   "execution_count": 7,
   "id": "ff34d5c1-7199-4641-9aef-3061e4e356da",
   "metadata": {
    "tags": []
   },
   "outputs": [],
   "source": [
    "results_df.rename(columns={'sampleID':'array_id'}, inplace=True)"
   ]
  },
  {
   "cell_type": "code",
   "execution_count": 8,
   "id": "1691369d-c6ec-410d-9ddf-91ea39e6e366",
   "metadata": {
    "tags": []
   },
   "outputs": [],
   "source": [
    "mutations_df = pd.read_csv(promoter_mutations, header=None, sep='\\t', names=['chrom','pos','id','ref','alt','geneName','vcf']) #promoter mutations after filtering"
   ]
  },
  {
   "cell_type": "code",
   "execution_count": 9,
   "id": "3628d5ff-a179-4f64-b9e3-ff207351f6a1",
   "metadata": {
    "tags": []
   },
   "outputs": [],
   "source": [
    "# exclude genes with mutations explained by MLL\n",
    "\n",
    "mutations_mll = pd.read_csv(aml_variants_tsv, sep='\\t')\n",
    "\n",
    "matching_genes = pd.read_csv('/s/project/mll/sergey/effect_prediction/promoter_mutations/ensemble_to_HGNC_GRCh38.tsv.gz', sep='\\t', \n",
    "                      header=None, names=['geneName', 'symbol'], usecols=[0,1], skiprows=1)\n",
    "\n",
    "matching_genes = matching_genes[~matching_genes.symbol.isna()]\n",
    "\n",
    "mutations_mll = mutations_mll[['array_id','symbol']].merge(matching_genes)\n",
    "\n",
    "results_df = results_df.merge(mutations_mll[['array_id','geneName']],\n",
    "                   indicator = True, how='left').loc[lambda x : x['_merge']=='left_only'].drop(columns='_merge')"
   ]
  },
  {
   "cell_type": "code",
   "execution_count": 10,
   "id": "b8b9335b-4a5a-403b-b017-478f86b77ef6",
   "metadata": {
    "tags": []
   },
   "outputs": [],
   "source": [
    "matching_df = pd.read_csv(vcf_matching, header=None, sep='\\t', names=['array_id','vcf']).set_index('vcf').squeeze()"
   ]
  },
  {
   "cell_type": "code",
   "execution_count": 11,
   "id": "f90b36c5-e611-41cc-aea6-e8cbbac47ef8",
   "metadata": {
    "tags": []
   },
   "outputs": [],
   "source": [
    "mutations_df['array_id'] = mutations_df.vcf.map(matching_df) #mapping between vcf and MLL array_id "
   ]
  },
  {
   "cell_type": "code",
   "execution_count": 12,
   "id": "77513796-862d-4f26-ae09-785f0c9a571a",
   "metadata": {
    "tags": []
   },
   "outputs": [],
   "source": [
    "mutations_df.geneName = mutations_df.geneName.apply(lambda x: x.split(',') if ',' in x else x)"
   ]
  },
  {
   "cell_type": "code",
   "execution_count": 13,
   "id": "5a767228-f72d-4052-b77a-f866cee9b09a",
   "metadata": {
    "tags": []
   },
   "outputs": [],
   "source": [
    "mutations_df = mutations_df.explode('geneName') #split by gene where multiple genes per mutation"
   ]
  },
  {
   "cell_type": "code",
   "execution_count": 14,
   "id": "fccb8e3a-b25d-487c-94eb-5e9144932cd9",
   "metadata": {
    "tags": []
   },
   "outputs": [],
   "source": [
    "mutations_counts = mutations_df.groupby(['array_id','geneName']).size().reset_index(name = 'promoter_mutations') #add mutations counts"
   ]
  },
  {
   "cell_type": "code",
   "execution_count": 15,
   "id": "d81868c2-2118-4740-a0cd-7a975a567b78",
   "metadata": {
    "tags": []
   },
   "outputs": [],
   "source": [
    "results_df = results_df.merge(mutations_counts, how='left')"
   ]
  },
  {
   "cell_type": "code",
   "execution_count": 16,
   "id": "fa471741-1d81-429b-b5e4-2de71bfbd479",
   "metadata": {
    "tags": []
   },
   "outputs": [],
   "source": [
    "results_df.promoter_mutations = results_df.promoter_mutations.fillna(0)"
   ]
  },
  {
   "cell_type": "code",
   "execution_count": 17,
   "id": "53c5cf5f-9059-4aeb-bc7f-56a215fb5164",
   "metadata": {
    "tags": []
   },
   "outputs": [],
   "source": [
    "#remove sample-gene pairs with splicing variants\n",
    "\n",
    "splicing_df = pd.read_csv(splicing_tsv, sep='\\t')\n",
    "\n",
    "results_df = results_df.merge(splicing_df[['geneName','array_id']],\n",
    "                   indicator = True, how='left').loc[lambda x : x['_merge']!='right_only'].rename(columns={'_merge':'splicing_variant'})"
   ]
  },
  {
   "cell_type": "code",
   "execution_count": 18,
   "id": "889e3fea-0a2d-4fde-94e1-9c9d47bab629",
   "metadata": {
    "tags": []
   },
   "outputs": [],
   "source": [
    "#remove sample-gene pairs with structural variants\n",
    "\n",
    "sv_df = pd.read_csv(structural_tsv, sep='\\t')\n",
    "\n",
    "results_df = results_df.merge(sv_df[['geneName','array_id','svtype']],\n",
    "                   indicator = True, how='left').loc[lambda x : x['_merge']!='right_only'].rename(columns={'_merge':'structural_variant'})"
   ]
  },
  {
   "cell_type": "code",
   "execution_count": 19,
   "id": "651a6634-1053-4c7d-ab85-12461a348d86",
   "metadata": {
    "tags": []
   },
   "outputs": [],
   "source": [
    "#remove sample-gene pairs with copy number variants\n",
    "\n",
    "cnv_df = pd.read_csv(copy_number_tsv, sep='\\t')\n",
    "\n",
    "results_df = results_df.merge(cnv_df[['geneName','array_id','call']],\n",
    "                   indicator = True, how='left').loc[lambda x : x['_merge']!='right_only'].rename(columns={'_merge':'copy_number_variant'})"
   ]
  },
  {
   "cell_type": "code",
   "execution_count": 20,
   "id": "36874157-69a2-488e-b9ed-41a4f03dc6bd",
   "metadata": {
    "tags": []
   },
   "outputs": [],
   "source": [
    "results_df['abnormal'] = results_df.padjust<0.05"
   ]
  },
  {
   "cell_type": "code",
   "execution_count": 21,
   "id": "60b2f86b-a5da-41cd-9c2c-e3603b084c62",
   "metadata": {
    "tags": []
   },
   "outputs": [],
   "source": [
    "results_df['promoter_variant'] = results_df.promoter_mutations>0\n",
    "results_df['structural_variant'] = results_df.structural_variant == 'both'\n",
    "results_df['splicing_variant'] = results_df.splicing_variant == 'both'\n",
    "results_df['copy_number_variant'] = results_df.copy_number_variant == 'both'"
   ]
  },
  {
   "cell_type": "code",
   "execution_count": null,
   "id": "61ac136b-da17-455a-9da1-31acf1ef8406",
   "metadata": {
    "tags": []
   },
   "outputs": [
    {
     "name": "stdout",
     "output_type": "stream",
     "text": [
      "True promoter_variant\n",
      "True structural_variant\n",
      "True splicing_variant\n"
     ]
    }
   ],
   "source": [
    "reasons = ['promoter_variant', 'structural_variant', 'splicing_variant', 'copy_number_variant']\n",
    "\n",
    "res = []\n",
    "\n",
    "for conf in (True,False):\n",
    "\n",
    "    for reason in reasons:\n",
    "        \n",
    "        print(conf, reason)\n",
    "\n",
    "        if conf==False:\n",
    "\n",
    "            flt = ~results_df[[x for x in reasons if x!=reason]].sum(axis=1).astype(bool)\n",
    "            contig_table = pd.crosstab(results_df.loc[flt][reason], results_df.loc[flt]['abnormal'], margins=True)\n",
    "        else:\n",
    "            contig_table = pd.crosstab(results_df[reason], results_df['abnormal'], margins=True)\n",
    "\n",
    "        mutated_activ_prop = contig_table.loc[True,True]/contig_table.loc['All',True]\n",
    "        nonmutated_activ_prop = contig_table.loc[True,False]/contig_table.loc['All',False]\n",
    "\n",
    "        p_value = scipy.stats.fisher_exact(contig_table.iloc[:2,:2])[1]\n",
    "\n",
    "        res.append((conf,reason,mutated_activ_prop,nonmutated_activ_prop,p_value))\n",
    "    \n",
    "    #print(f'Fraction of sample-gene pairs with {reason} among abnormally expressed: {mutated_activ_prop:.3}')\n",
    "    #print(f'Fraction of sample-gene pairs with {reason} among normally expressed: {nonmutated_activ_prop:.3}')"
   ]
  },
  {
   "cell_type": "code",
   "execution_count": null,
   "id": "23b145fc-4289-4a73-94bd-346f5d87bfde",
   "metadata": {},
   "outputs": [],
   "source": [
    "res = pd.DataFrame(res, columns=['Confounders', 'Mutation', 'Frac. in anomal expr.', 'Frac. in normal expr.', 'p-value'])"
   ]
  },
  {
   "cell_type": "code",
   "execution_count": null,
   "id": "ac225ad9-f05f-4b8c-8435-3c5e4d488556",
   "metadata": {},
   "outputs": [],
   "source": []
  }
 ],
 "metadata": {
  "kernelspec": {
   "display_name": "Python [conda env:miniconda3-svilov-spade]",
   "language": "python",
   "name": "conda-env-miniconda3-svilov-spade-py"
  },
  "language_info": {
   "codemirror_mode": {
    "name": "ipython",
    "version": 3
   },
   "file_extension": ".py",
   "mimetype": "text/x-python",
   "name": "python",
   "nbconvert_exporter": "python",
   "pygments_lexer": "ipython3",
   "version": "3.10.9"
  }
 },
 "nbformat": 4,
 "nbformat_minor": 5
}
